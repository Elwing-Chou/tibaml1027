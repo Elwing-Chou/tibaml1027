{
  "nbformat": 4,
  "nbformat_minor": 0,
  "metadata": {
    "colab": {
      "name": "cifar10_gap.ipynb",
      "provenance": [],
      "authorship_tag": "ABX9TyMNSNXUGW5oTHqWwkIXBGbY",
      "include_colab_link": true
    },
    "kernelspec": {
      "name": "python3",
      "display_name": "Python 3"
    },
    "language_info": {
      "name": "python"
    },
    "accelerator": "GPU"
  },
  "cells": [
    {
      "cell_type": "markdown",
      "metadata": {
        "id": "view-in-github",
        "colab_type": "text"
      },
      "source": [
        "<a href=\"https://colab.research.google.com/github/Elwing-Chou/tibaml1027/blob/main/cifar10_gap.ipynb\" target=\"_parent\"><img src=\"https://colab.research.google.com/assets/colab-badge.svg\" alt=\"Open In Colab\"/></a>"
      ]
    },
    {
      "cell_type": "code",
      "metadata": {
        "id": "xiJCDl-Jqipt"
      },
      "source": [
        "from tensorflow.keras.datasets.cifar10 import load_data\n",
        "(x_train, y_train), (x_test, y_test) = load_data()"
      ],
      "execution_count": null,
      "outputs": []
    },
    {
      "cell_type": "code",
      "metadata": {
        "colab": {
          "base_uri": "https://localhost:8080/"
        },
        "id": "PXsg4bJUq4AO",
        "outputId": "cce8ceb4-c4f3-4a0d-a1ff-3464f4dcaa9a"
      },
      "source": [
        "print(x_train.shape)\n",
        "print(x_test.shape)\n",
        "print(y_train.shape)\n",
        "print(y_test.shape)"
      ],
      "execution_count": null,
      "outputs": [
        {
          "output_type": "stream",
          "name": "stdout",
          "text": [
            "(50000, 32, 32, 3)\n",
            "(10000, 32, 32, 3)\n",
            "(50000, 1)\n",
            "(10000, 1)\n"
          ]
        }
      ]
    },
    {
      "cell_type": "code",
      "metadata": {
        "colab": {
          "base_uri": "https://localhost:8080/"
        },
        "id": "GKJvdszhrOER",
        "outputId": "a78addde-be58-4192-c202-d574d5fa53a9"
      },
      "source": [
        "# !!! (50000, 1) =/= (50000, )\n",
        "y_train"
      ],
      "execution_count": null,
      "outputs": [
        {
          "output_type": "execute_result",
          "data": {
            "text/plain": [
              "array([[6],\n",
              "       [9],\n",
              "       [9],\n",
              "       ...,\n",
              "       [9],\n",
              "       [1],\n",
              "       [1]], dtype=uint8)"
            ]
          },
          "metadata": {},
          "execution_count": 16
        }
      ]
    },
    {
      "cell_type": "code",
      "metadata": {
        "id": "fJoHSYLVsQAH"
      },
      "source": [
        "trans = [\n",
        "    \"airplane\",\t\t\t\t\t\t\t\t\t\t\n",
        "    \"automobile\",\t\t\t\t\t\t\t\t\t\t\n",
        "    \"bird\",\t\t\t\t\t\t\t\t\t\t\n",
        "    \"cat\",\t\t\t\t\t\t\t\t\t\t\n",
        "    \"deer\",\t\t\t\t\t\t\t\t\t\t\n",
        "    \"dog\",\t\t\t\t\t\t\t\t\t\t\n",
        "    \"frog\",\t\t\t\t\t\t\t\t\t\t\n",
        "    \"horse\",\t\t\t\t\t\t\t\t\t\t\n",
        "    \"ship\",\t\t\t\t\t\t\t\t\t\t\n",
        "    \"truck\",\n",
        "]"
      ],
      "execution_count": null,
      "outputs": []
    },
    {
      "cell_type": "code",
      "metadata": {
        "colab": {
          "base_uri": "https://localhost:8080/",
          "height": 301
        },
        "id": "NFDVDkvhr9-R",
        "outputId": "d5bb2642-1791-4d53-ebc1-41e8ccd50cd1"
      },
      "source": [
        "import matplotlib.pyplot as plt\n",
        "idx = 10000\n",
        "print(trans[y_train[idx][0]])\n",
        "plt.imshow(x_train[idx])"
      ],
      "execution_count": null,
      "outputs": [
        {
          "output_type": "stream",
          "name": "stdout",
          "text": [
            "automobile\n"
          ]
        },
        {
          "output_type": "execute_result",
          "data": {
            "text/plain": [
              "<matplotlib.image.AxesImage at 0x7f900d5e1750>"
            ]
          },
          "metadata": {},
          "execution_count": 18
        },
        {
          "output_type": "display_data",
          "data": {
            "image/png": "[encoded data removed]",
            "text/plain": [
              "<Figure size 432x288 with 1 Axes>"
            ]
          },
          "metadata": {
            "needs_background": "light"
          }
        }
      ]
    },
    {
      "cell_type": "code",
      "metadata": {
        "colab": {
          "base_uri": "https://localhost:8080/"
        },
        "id": "HXIRlvf-wISO",
        "outputId": "e9a4f408-bc6f-4faf-f150-dc343490f3b9"
      },
      "source": [
        "from tensorflow.keras.models import Sequential\n",
        "from tensorflow.keras.layers import Conv2D, MaxPooling2D, GlobalAveragePooling2D\n",
        "from tensorflow.keras.layers import Dense, Flatten, Dropout\n",
        "layers = [\n",
        "    # CNN\n",
        "    Conv2D(64, 3, padding=\"same\", activation=\"relu\", input_shape=(32, 32, 3)),\n",
        "    MaxPooling2D(),\n",
        "    Conv2D(128, 3, padding=\"same\", activation=\"relu\"),\n",
        "    MaxPooling2D(),\n",
        "    Conv2D(256, 3, padding=\"same\", activation=\"relu\"),\n",
        "    MaxPooling2D(),\n",
        "    Conv2D(512, 3, padding=\"same\", activation=\"relu\"),\n",
        "    GlobalAveragePooling2D(),\n",
        "    Dense(10, activation=\"softmax\")\n",
        "]\n",
        "model = Sequential(layers)\n",
        "model.summary(line_length=100)"
      ],
      "execution_count": null,
      "outputs": [
        {
          "output_type": "stream",
          "name": "stdout",
          "text": [
            "Model: \"sequential_4\"\n",
            "____________________________________________________________________________________________________\n",
            " Layer (type)                                Output Shape                            Param #        \n",
            "====================================================================================================\n",
            " conv2d_16 (Conv2D)                          (None, 32, 32, 64)                      1792           \n",
            "                                                                                                    \n",
            " max_pooling2d_16 (MaxPooling2D)             (None, 16, 16, 64)                      0              \n",
            "                                                                                                    \n",
            " conv2d_17 (Conv2D)                          (None, 16, 16, 128)                     73856          \n",
            "                                                                                                    \n",
            " max_pooling2d_17 (MaxPooling2D)             (None, 8, 8, 128)                       0              \n",
            "                                                                                                    \n",
            " conv2d_18 (Conv2D)                          (None, 8, 8, 256)                       295168         \n",
            "                                                                                                    \n",
            " max_pooling2d_18 (MaxPooling2D)             (None, 4, 4, 256)                       0              \n",
            "                                                                                                    \n",
            " conv2d_19 (Conv2D)                          (None, 4, 4, 512)                       1180160        \n",
            "                                                                                                    \n",
            " global_average_pooling2d_3 (GlobalAveragePo  (None, 512)                            0              \n",
            " oling2D)                                                                                           \n",
            "                                                                                                    \n",
            " dense_2 (Dense)                             (None, 10)                              5130           \n",
            "                                                                                                    \n",
            "====================================================================================================\n",
            "Total params: 1,556,106\n",
            "Trainable params: 1,556,106\n",
            "Non-trainable params: 0\n",
            "____________________________________________________________________________________________________\n"
          ]
        }
      ]
    },
    {
      "cell_type": "code",
      "metadata": {
        "id": "wadTSmDZQJfB"
      },
      "source": [
        "# 一個輸出(二元分類): BinaryCrossEntropy p log 1/q + (1 - p) log 1/1-q\n",
        "# 多個輸出(多元分類): CategoricalCrossEntropy pi log1/qi\n",
        "from tensorflow.keras.losses import SparseCategoricalCrossentropy\n",
        "model.compile(loss=SparseCategoricalCrossentropy(),\n",
        "              # \"adam\"也可以\n",
        "              optimizer=\"adam\",\n",
        "              metrics=[\"accuracy\"])"
      ],
      "execution_count": null,
      "outputs": []
    },
    {
      "cell_type": "code",
      "metadata": {
        "id": "dWzdhFmCSUtB"
      },
      "source": [
        "x_train_norm = x_train / 255\n",
        "x_test_norm = x_test / 255"
      ],
      "execution_count": null,
      "outputs": []
    },
    {
      "cell_type": "code",
      "metadata": {
        "colab": {
          "base_uri": "https://localhost:8080/"
        },
        "id": "X6pnulNaSq_S",
        "outputId": "d2739cb4-5980-486f-bf59-c6897907f463"
      },
      "source": [
        "# batch_size: 看多少筆, 做一次梯度下降(幾10~幾100)\n",
        "# epochs: 所有資料看幾輪(負責結束訓練)\n",
        "# batch_size=200\n",
        "# 一epochs: 54000 / 200 = 270(次梯度下降)\n",
        "# verbose=0(quiet) 1(default) 2(no bar)\n",
        "from tensorflow.keras.callbacks import EarlyStopping, ModelCheckpoint\n",
        "callbacks = [\n",
        "    EarlyStopping(patience=5, restore_best_weights=True),\n",
        "    ModelCheckpoint(\"cnn.h5\", save_best_only=True)\n",
        "]\n",
        "model.fit(x_train_norm,\n",
        "          y_train,\n",
        "          batch_size=200,\n",
        "          epochs=100,\n",
        "          validation_split=0.1,\n",
        "          verbose=2,\n",
        "          callbacks=callbacks)"
      ],
      "execution_count": null,
      "outputs": [
        {
          "output_type": "stream",
          "name": "stdout",
          "text": [
            "Epoch 1/100\n",
            "225/225 - 9s - loss: 1.7044 - accuracy: 0.3658 - val_loss: 1.4331 - val_accuracy: 0.4724 - 9s/epoch - 41ms/step\n",
            "Epoch 2/100\n",
            "225/225 - 8s - loss: 1.3221 - accuracy: 0.5128 - val_loss: 1.2235 - val_accuracy: 0.5496 - 8s/epoch - 37ms/step\n",
            "Epoch 3/100\n",
            "225/225 - 8s - loss: 1.1334 - accuracy: 0.5945 - val_loss: 1.1322 - val_accuracy: 0.5946 - 8s/epoch - 37ms/step\n",
            "Epoch 4/100\n",
            "225/225 - 8s - loss: 1.0124 - accuracy: 0.6390 - val_loss: 1.0285 - val_accuracy: 0.6266 - 8s/epoch - 37ms/step\n",
            "Epoch 5/100\n",
            "225/225 - 8s - loss: 0.9221 - accuracy: 0.6735 - val_loss: 0.9207 - val_accuracy: 0.6770 - 8s/epoch - 37ms/step\n",
            "Epoch 6/100\n",
            "225/225 - 8s - loss: 0.8462 - accuracy: 0.6991 - val_loss: 0.8064 - val_accuracy: 0.7176 - 8s/epoch - 37ms/step\n",
            "Epoch 7/100\n",
            "225/225 - 8s - loss: 0.7705 - accuracy: 0.7289 - val_loss: 0.7780 - val_accuracy: 0.7318 - 8s/epoch - 37ms/step\n",
            "Epoch 8/100\n",
            "225/225 - 8s - loss: 0.7048 - accuracy: 0.7531 - val_loss: 0.8179 - val_accuracy: 0.7140 - 8s/epoch - 37ms/step\n",
            "Epoch 9/100\n",
            "225/225 - 8s - loss: 0.6550 - accuracy: 0.7707 - val_loss: 0.7863 - val_accuracy: 0.7284 - 8s/epoch - 37ms/step\n",
            "Epoch 10/100\n",
            "225/225 - 8s - loss: 0.6061 - accuracy: 0.7878 - val_loss: 0.7231 - val_accuracy: 0.7522 - 8s/epoch - 37ms/step\n",
            "Epoch 11/100\n",
            "225/225 - 8s - loss: 0.5623 - accuracy: 0.8021 - val_loss: 0.6660 - val_accuracy: 0.7716 - 8s/epoch - 37ms/step\n",
            "Epoch 12/100\n",
            "225/225 - 8s - loss: 0.5085 - accuracy: 0.8234 - val_loss: 0.6466 - val_accuracy: 0.7814 - 8s/epoch - 37ms/step\n",
            "Epoch 13/100\n",
            "225/225 - 8s - loss: 0.4643 - accuracy: 0.8412 - val_loss: 0.6663 - val_accuracy: 0.7742 - 8s/epoch - 37ms/step\n",
            "Epoch 14/100\n",
            "225/225 - 8s - loss: 0.4276 - accuracy: 0.8507 - val_loss: 0.6368 - val_accuracy: 0.7896 - 8s/epoch - 37ms/step\n",
            "Epoch 15/100\n",
            "225/225 - 8s - loss: 0.3909 - accuracy: 0.8651 - val_loss: 0.6195 - val_accuracy: 0.7968 - 8s/epoch - 37ms/step\n",
            "Epoch 16/100\n",
            "225/225 - 8s - loss: 0.3429 - accuracy: 0.8806 - val_loss: 0.6461 - val_accuracy: 0.7884 - 8s/epoch - 37ms/step\n",
            "Epoch 17/100\n",
            "225/225 - 8s - loss: 0.3089 - accuracy: 0.8936 - val_loss: 0.6833 - val_accuracy: 0.7896 - 8s/epoch - 37ms/step\n",
            "Epoch 18/100\n",
            "225/225 - 8s - loss: 0.2805 - accuracy: 0.9010 - val_loss: 0.6964 - val_accuracy: 0.7848 - 8s/epoch - 37ms/step\n",
            "Epoch 19/100\n",
            "225/225 - 8s - loss: 0.2388 - accuracy: 0.9186 - val_loss: 0.6870 - val_accuracy: 0.7908 - 8s/epoch - 37ms/step\n",
            "Epoch 20/100\n",
            "225/225 - 8s - loss: 0.2105 - accuracy: 0.9272 - val_loss: 0.6712 - val_accuracy: 0.7974 - 8s/epoch - 37ms/step\n"
          ]
        },
        {
          "output_type": "execute_result",
          "data": {
            "text/plain": [
              "<keras.callbacks.History at 0x7f900d570390>"
            ]
          },
          "metadata": {},
          "execution_count": 22
        }
      ]
    },
    {
      "cell_type": "code",
      "metadata": {
        "colab": {
          "base_uri": "https://localhost:8080/"
        },
        "id": "MGDKP-yiS4GA",
        "outputId": "e0d884ff-bded-4e53-a237-fd2e4cba1d99"
      },
      "source": [
        "model.evaluate(x_test_norm, y_test)"
      ],
      "execution_count": null,
      "outputs": [
        {
          "output_type": "stream",
          "name": "stdout",
          "text": [
            "313/313 [==============================] - 3s 8ms/step - loss: 0.6615 - accuracy: 0.7833\n"
          ]
        },
        {
          "output_type": "execute_result",
          "data": {
            "text/plain": [
              "[0.6614746451377869, 0.78329998254776]"
            ]
          },
          "metadata": {},
          "execution_count": 23
        }
      ]
    }
  ]
}