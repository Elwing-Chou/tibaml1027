{
  "nbformat": 4,
  "nbformat_minor": 0,
  "metadata": {
    "colab": {
      "name": "inception.ipynb",
      "provenance": [],
      "authorship_tag": "ABX9TyMlz6qCRoqoPc1alzyvqExK",
      "include_colab_link": true
    },
    "kernelspec": {
      "name": "python3",
      "display_name": "Python 3"
    },
    "language_info": {
      "name": "python"
    }
  },
  "cells": [
    {
      "cell_type": "markdown",
      "metadata": {
        "id": "view-in-github",
        "colab_type": "text"
      },
      "source": [
        "<a href=\"https://colab.research.google.com/github/Elwing-Chou/tibaml1027/blob/main/inception.ipynb\" target=\"_parent\"><img src=\"https://colab.research.google.com/assets/colab-badge.svg\" alt=\"Open In Colab\"/></a>"
      ]
    },
    {
      "cell_type": "code",
      "metadata": {
        "id": "dyPPfCKQXg1a"
      },
      "source": [
        "from tensorflow.keras.applications.inception_v3 import InceptionV3\n",
        "model = InceptionV3(include_top=False, input_shape=(224, 224, 3))\n",
        "model.summary()"
      ],
      "execution_count": null,
      "outputs": []
    },
    {
      "cell_type": "code",
      "metadata": {
        "id": "jgUoxttnX7Yw"
      },
      "source": [
        "from tensorflow.keras.utils import plot_model\n",
        "plot_model(model, to_file=\"inception.png\", show_shapes=True)"
      ],
      "execution_count": null,
      "outputs": []
    },
    {
      "cell_type": "code",
      "metadata": {
        "colab": {
          "base_uri": "https://localhost:8080/"
        },
        "id": "ifCC2jA6cX32",
        "outputId": "625a3cb5-cf1e-4475-db74-e7baeea9e7db"
      },
      "source": [
        "# 右一線: 1 x 1卷積(64)\n",
        "# 64組 1 x 1捲機\n",
        "w = model.get_layer(\"conv2d_5\").get_weights()\n",
        "print(w[0].shape)"
      ],
      "execution_count": 10,
      "outputs": [
        {
          "output_type": "stream",
          "name": "stdout",
          "text": [
            "(1, 1, 192, 64)\n"
          ]
        }
      ]
    },
    {
      "cell_type": "code",
      "metadata": {
        "colab": {
          "base_uri": "https://localhost:8080/"
        },
        "id": "QKOgm77DdIbF",
        "outputId": "14dfa025-5006-46c7-af5d-81e6b278772a"
      },
      "source": [
        "# 右二線: 模糊化(Average) -> 1 x 1卷積(32)\n",
        "w = model.get_layer(\"conv2d_11\").get_weights()\n",
        "print(w[0].shape)"
      ],
      "execution_count": 11,
      "outputs": [
        {
          "output_type": "stream",
          "name": "stdout",
          "text": [
            "(1, 1, 192, 32)\n"
          ]
        }
      ]
    },
    {
      "cell_type": "code",
      "metadata": {
        "colab": {
          "base_uri": "https://localhost:8080/"
        },
        "id": "NCjlxMy5d792",
        "outputId": "f7f8c638-998c-49ba-b631-cfc5a1c204c0"
      },
      "source": [
        "# 右三線: 1 x 1捲機(48) -> 5 x 5捲機(64)\n",
        "# 1 x 1 捲機: 減低計算量\n",
        "w = model.get_layer(\"conv2d_6\").get_weights()\n",
        "print(w[0].shape)\n",
        "w = model.get_layer(\"conv2d_7\").get_weights()\n",
        "print(w[0].shape)"
      ],
      "execution_count": 12,
      "outputs": [
        {
          "output_type": "stream",
          "name": "stdout",
          "text": [
            "(1, 1, 192, 48)\n",
            "(5, 5, 48, 64)\n"
          ]
        }
      ]
    },
    {
      "cell_type": "code",
      "metadata": {
        "colab": {
          "base_uri": "https://localhost:8080/"
        },
        "id": "byVq0bQjesr3",
        "outputId": "5d9c17b8-b6c5-4155-9222-9018119d2f61"
      },
      "source": [
        "# 右四線: 1 x 1捲機(64) -> 3 x 3捲機(96) -> 3 x 3捲機(96)\n",
        "w = model.get_layer(\"conv2d_8\").get_weights()\n",
        "print(w[0].shape)\n",
        "w = model.get_layer(\"conv2d_9\").get_weights()\n",
        "print(w[0].shape)\n",
        "w = model.get_layer(\"conv2d_10\").get_weights()\n",
        "print(w[0].shape)"
      ],
      "execution_count": 13,
      "outputs": [
        {
          "output_type": "stream",
          "name": "stdout",
          "text": [
            "(1, 1, 192, 64)\n",
            "(3, 3, 64, 96)\n",
            "(3, 3, 96, 96)\n"
          ]
        }
      ]
    }
  ]
}