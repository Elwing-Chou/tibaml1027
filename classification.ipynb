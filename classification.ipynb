{
  "nbformat": 4,
  "nbformat_minor": 0,
  "metadata": {
    "colab": {
      "name": "classification.ipynb",
      "provenance": [],
      "authorship_tag": "ABX9TyNZVG4sNX6Uu5Ie4vGWbUty",
      "include_colab_link": true
    },
    "kernelspec": {
      "name": "python3",
      "display_name": "Python 3"
    },
    "language_info": {
      "name": "python"
    }
  },
  "cells": [
    {
      "cell_type": "markdown",
      "metadata": {
        "id": "view-in-github",
        "colab_type": "text"
      },
      "source": [
        "<a href=\"https://colab.research.google.com/github/Elwing-Chou/tibaml1027/blob/main/classification.ipynb\" target=\"_parent\"><img src=\"https://colab.research.google.com/assets/colab-badge.svg\" alt=\"Open In Colab\"/></a>"
      ]
    },
    {
      "cell_type": "code",
      "metadata": {
        "id": "AqeKqUryND9R"
      },
      "source": [
        "import pandas as pd\n",
        "from sklearn.datasets import load_iris\n",
        "iris = load_iris()\n",
        "df = pd.DataFrame(iris[\"data\"],\n",
        "                  columns=iris[\"feature_names\"])\n",
        "df[\"ans\"] = iris[\"target\"]\n",
        "df.to_csv(\"iris.csv\", encoding=\"utf-8\", index=False)\n",
        "df"
      ],
      "execution_count": null,
      "outputs": []
    },
    {
      "cell_type": "code",
      "metadata": {
        "id": "zBP5mzlLVr9n"
      },
      "source": [
        "# 開始丟到sklearn前, 把所有東西轉換成numpy array(好習慣)\n",
        "import numpy as np\n",
        "from sklearn.model_selection import train_test_split\n",
        "# x: 輸入 y: 輸出\n",
        "y = df[\"ans\"]\n",
        "y = np.array(y)\n",
        "x = df.drop([\"ans\"], axis=1)\n",
        "x = np.array(x)\n",
        "# 90% x, 10% x, 90% y, 10% y\n",
        "x_train, x_test, y_train, y_test = train_test_split(x, y, test_size=0.1)\n",
        "# train_test_split([1, 2, 3, 4], \n",
        "#                  [\"a\", \"b\", \"c\", \"d\"],\n",
        "#                  [101, 102, 103, 104],\n",
        "#                  test_size=0.25)"
      ],
      "execution_count": 24,
      "outputs": []
    }
  ]
}