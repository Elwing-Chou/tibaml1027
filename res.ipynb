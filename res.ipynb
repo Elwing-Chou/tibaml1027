{
  "nbformat": 4,
  "nbformat_minor": 0,
  "metadata": {
    "colab": {
      "name": "res.ipynb",
      "provenance": [],
      "authorship_tag": "ABX9TyOxwPDYsppXxRB1/gzUqGKo",
      "include_colab_link": true
    },
    "kernelspec": {
      "name": "python3",
      "display_name": "Python 3"
    },
    "language_info": {
      "name": "python"
    }
  },
  "cells": [
    {
      "cell_type": "markdown",
      "metadata": {
        "id": "view-in-github",
        "colab_type": "text"
      },
      "source": [
        "<a href=\"https://colab.research.google.com/github/Elwing-Chou/tibaml1027/blob/main/res.ipynb\" target=\"_parent\"><img src=\"https://colab.research.google.com/assets/colab-badge.svg\" alt=\"Open In Colab\"/></a>"
      ]
    },
    {
      "cell_type": "code",
      "metadata": {
        "id": "RQwehskBzV6Z"
      },
      "source": [
        "from tensorflow.keras.applications.resnet_v2 import ResNet50V2\n",
        "from tensorflow.keras.utils import plot_model\n",
        "model = ResNet50V2(include_top=False, input_shape=(224, 224, 3))\n",
        "plot_model(model, to_file=\"res.png\", show_shapes=True)"
      ],
      "execution_count": null,
      "outputs": []
    }
  ]
}