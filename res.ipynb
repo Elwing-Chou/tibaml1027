{
  "nbformat": 4,
  "nbformat_minor": 0,
  "metadata": {
    "colab": {
      "name": "res.ipynb",
      "provenance": [],
      "authorship_tag": "ABX9TyM871oTzwHaKBZW7R0lEqfE",
      "include_colab_link": true
    },
    "kernelspec": {
      "name": "python3",
      "display_name": "Python 3"
    },
    "language_info": {
      "name": "python"
    }
  },
  "cells": [
    {
      "cell_type": "markdown",
      "metadata": {
        "id": "view-in-github",
        "colab_type": "text"
      },
      "source": [
        "<a href=\"https://colab.research.google.com/github/Elwing-Chou/tibaml1027/blob/main/res.ipynb\" target=\"_parent\"><img src=\"https://colab.research.google.com/assets/colab-badge.svg\" alt=\"Open In Colab\"/></a>"
      ]
    },
    {
      "cell_type": "code",
      "metadata": {
        "id": "RQwehskBzV6Z"
      },
      "source": [
        "from tensorflow.keras.applications.resnet_v2 import ResNet50V2\n",
        "from tensorflow.keras.utils import plot_model\n",
        "model = ResNet50V2(include_top=False, input_shape=(224, 224, 3))\n",
        "plot_model(model, to_file=\"res.png\", show_shapes=True)"
      ],
      "execution_count": null,
      "outputs": []
    },
    {
      "cell_type": "code",
      "metadata": {
        "colab": {
          "base_uri": "https://localhost:8080/"
        },
        "id": "WJtof5ZC2UlP",
        "outputId": "71a9c14d-f664-4864-8bbc-e857bf092854"
      },
      "source": [
        "# 通道數有增加的圈\n",
        "# 短路線: 1 x 1捲機(256)\n",
        "w = model.get_layer(\"conv2_block1_0_conv\").get_weights()\n",
        "print(w[0].shape)\n",
        "# 殘差線: 1 x 1捲機(64) -> 3 x 3捲機(64) -> 1 x 1捲機(256)\n",
        "w = model.get_layer(\"conv2_block1_1_conv\").get_weights()\n",
        "print(w[0].shape)\n",
        "w = model.get_layer(\"conv2_block1_2_conv\").get_weights()\n",
        "print(w[0].shape)\n",
        "w = model.get_layer(\"conv2_block1_3_conv\").get_weights()\n",
        "print(w[0].shape)"
      ],
      "execution_count": 5,
      "outputs": [
        {
          "output_type": "stream",
          "name": "stdout",
          "text": [
            "(1, 1, 64, 256)\n",
            "(1, 1, 64, 64)\n",
            "(3, 3, 64, 64)\n",
            "(1, 1, 64, 256)\n"
          ]
        }
      ]
    },
    {
      "cell_type": "code",
      "metadata": {
        "id": "WmcuX4w43dJ3"
      },
      "source": [
        "from tensorflow.keras.models import Model\n",
        "from tensorflow.keras.layers import Conv2D, BatchNormalization, Activation\n",
        "from tensorflow.keras.layers import Input, Add\n",
        "\n",
        "i = Input(shape=(56, 56, 64))\n",
        "# 短路\n",
        "x1 = Conv2D(256, 1, padding=\"same\")(i)\n",
        "# 殘差\n",
        "x2 = Conv2D(64, 1, padding=\"same\")(i)\n",
        "x2 = BatchNormalization()(x2)\n",
        "x2 = Activation(\"relu\")(x2)\n",
        "x2 = Conv2D(64, 3, padding=\"same\")(x2)\n",
        "x2 = BatchNormalization()(x2)\n",
        "x2 = Activation(\"relu\")(x2)\n",
        "x2 = Conv2D(256, 1, padding=\"same\")(x2)\n",
        "# ++\n",
        "o = Add()([x1, x2])\n",
        "p = Model(inputs=i, outputs=o)\n",
        "plot_model(p, show_shapes=True)"
      ],
      "execution_count": null,
      "outputs": []
    },
    {
      "cell_type": "code",
      "metadata": {
        "colab": {
          "base_uri": "https://localhost:8080/"
        },
        "id": "goaqPYDA69kD",
        "outputId": "5f5a66a4-55b8-4571-8181-26ed73ff7310"
      },
      "source": [
        "# 沒有改變通道數的圈圈\n",
        "# 殘差線: 1x1捲機(64) -> 3x3捲機(64) -> 1x1捲機(256)\n",
        "w = model.get_layer(\"conv2_block2_1_conv\").get_weights()\n",
        "print(w[0].shape)\n",
        "w = model.get_layer(\"conv2_block2_2_conv\").get_weights()\n",
        "print(w[0].shape)\n",
        "w = model.get_layer(\"conv2_block2_3_conv\").get_weights()\n",
        "print(w[0].shape)"
      ],
      "execution_count": 10,
      "outputs": [
        {
          "output_type": "stream",
          "name": "stdout",
          "text": [
            "(1, 1, 256, 64)\n",
            "(3, 3, 64, 64)\n",
            "(1, 1, 64, 256)\n"
          ]
        }
      ]
    },
    {
      "cell_type": "code",
      "metadata": {
        "id": "T_4Nie6F73O3"
      },
      "source": [
        "i = Input(shape=(56, 56, 256))\n",
        "\n",
        "# 殘差\n",
        "x2 = Conv2D(64, 1, padding=\"same\")(i)\n",
        "x2 = BatchNormalization()(x2)\n",
        "x2 = Activation(\"relu\")(x2)\n",
        "x2 = Conv2D(64, 3, padding=\"same\")(x2)\n",
        "x2 = BatchNormalization()(x2)\n",
        "x2 = Activation(\"relu\")(x2)\n",
        "x2 = Conv2D(256, 1, padding=\"same\")(x2)\n",
        "# ++\n",
        "o = Add()([i, x2])\n",
        "p = Model(inputs=i, outputs=o)\n",
        "plot_model(p, show_shapes=True)"
      ],
      "execution_count": null,
      "outputs": []
    }
  ]
}