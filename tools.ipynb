{
  "nbformat": 4,
  "nbformat_minor": 0,
  "metadata": {
    "colab": {
      "name": "tools.ipynb",
      "provenance": [],
      "authorship_tag": "ABX9TyN9BafESZTs22fwpgDDyvN4",
      "include_colab_link": true
    },
    "kernelspec": {
      "name": "python3",
      "display_name": "Python 3"
    },
    "language_info": {
      "name": "python"
    }
  },
  "cells": [
    {
      "cell_type": "markdown",
      "metadata": {
        "id": "view-in-github",
        "colab_type": "text"
      },
      "source": [
        "<a href=\"https://colab.research.google.com/github/Elwing-Chou/tibaml1027/blob/main/tools.ipynb\" target=\"_parent\"><img src=\"https://colab.research.google.com/assets/colab-badge.svg\" alt=\"Open In Colab\"/></a>"
      ]
    },
    {
      "cell_type": "code",
      "metadata": {
        "id": "YQzLN7FGBg-2",
        "colab": {
          "base_uri": "https://localhost:8080/"
        },
        "outputId": "30df0f83-5637-4ac6-f4d4-1647bf65a156"
      },
      "source": [
        "!pip install opencc-python-reimplemented"
      ],
      "execution_count": 1,
      "outputs": [
        {
          "output_type": "stream",
          "name": "stdout",
          "text": [
            "Requirement already satisfied: opencc-python-reimplemented in /usr/local/lib/python3.7/dist-packages (0.1.6)\n"
          ]
        }
      ]
    },
    {
      "cell_type": "code",
      "metadata": {
        "colab": {
          "base_uri": "https://localhost:8080/",
          "height": 53
        },
        "id": "ZTtuvVxTDP_V",
        "outputId": "ce4a90a4-0138-4394-918e-ef91529480ec"
      },
      "source": [
        "from opencc import OpenCC\n",
        "cc = OpenCC('s2tw')\n",
        "to_convert = \"\"\"繁体中文。\n",
        "为什么会觉得烦呢？也许让我们学写繁体中文的话，我们可能会烦。\n",
        "主要看所处的环境。\n",
        "如果楼主从一出生就学的是繁体中文的话，现在让你学写简体中文，你也会烦的。如果一个英语为母语的国家，让他们的人民学中文，不管是繁体还是简体都会烦。\n",
        "要你用你的纯母语来书写，应该是最顺手的吧\"\"\"\n",
        "converted = cc.convert(to_convert)\n",
        "converted"
      ],
      "execution_count": 2,
      "outputs": [
        {
          "output_type": "execute_result",
          "data": {
            "application/vnd.google.colaboratory.intrinsic+json": {
              "type": "string"
            },
            "text/plain": [
              "'繁體中文。\\n為什麼會覺得煩呢？也許讓我們學寫繁體中文的話，我們可能會煩。\\n主要看所處的環境。\\n如果樓主從一出生就學的是繁體中文的話，現在讓你學寫簡體中文，你也會煩的。如果一個英語為母語的國家，讓他們的人民學中文，不管是繁體還是簡體都會煩。\\n要你用你的純母語來書寫，應該是最順手的吧'"
            ]
          },
          "metadata": {},
          "execution_count": 2
        }
      ]
    },
    {
      "cell_type": "code",
      "metadata": {
        "id": "NCp8iRr9KOUU",
        "colab": {
          "base_uri": "https://localhost:8080/",
          "height": 265
        },
        "outputId": "8d0bf11c-1ed9-458c-8ad8-b953e25551ea"
      },
      "source": [
        "with open(\"news.txt\", \"r\", encoding=\"utf-8\") as f:\n",
        "    article = f.read()\n",
        "article"
      ],
      "execution_count": 3,
      "outputs": [
        {
          "output_type": "execute_result",
          "data": {
            "application/vnd.google.colaboratory.intrinsic+json": {
              "type": "string"
            },
            "text/plain": [
              "'4大公投在即，台北市議員林穎孟4日針對核廢料處置問題詢問台北市長柯文哲，並提到另一位北市議員徐巧芯曾稱「可以放我家的話我OK」，再次點燃與徐巧芯的戰火。徐巧芯回嗆，反核是妳的自由，但可不可以少問腦殘問題？這種問政品質跟方式，大概就跟她苛待助理，被勞動部裁決認定「慣老闆」，最高會被開罰10萬元，但她在臉書上卻說勞動部「還她清白」一樣。\\n\\n\\n柯文哲4日上午赴台北市議會進行專案報告，林穎孟詢問柯文哲，支持重啟核四的人有無提出核廢料怎麼處置？柯文哲回答「沒有。」接著，林穎孟秀出一個經處理過的臉書截圖，指出「你漏了一個人」，有松山、信義區的議員曾稱核廢料可以放她家。\\n\\n為此，林穎孟再問柯文哲，核廢料放在松山、信義區的可能性？技術上有可能嗎？你反對核廢料放在台北市嗎？柯文哲則表示，不會啦，技術上雖然可能，但風險評估不適合，核廢料不會放在人口密集區，也不會放在台北市。至於該台北市議員是誰？其實從臉書大頭貼來看就是徐巧芯，她今年3月時在臉書稱「可以放我家的話我OK」；有趣的是，當時也是「雙姝互鬥」。\\n\\n徐巧芯反擊林穎孟\\n\\n對於林穎孟今天的行為，徐巧芯隨即透過臉書反擊，「要反核是你的自由，但可不可以少問一些腦殘問題？」實際上核廢料根本沒有多到要放在任何人家，全台灣需要核廢料的空間大概7公頃左右，核電廠的面積有1100公頃，放在核電廠內安全又好控管。就偏偏有一些沒有任何科學觀念可言的人，以為核廢料跟家庭垃圾一樣多，或是核廢料不需要處理直接裸露燃料棒放在路邊，才喜歡到處問別人這個傻問題。\\n\\n徐巧芯說，退一萬步而言，任何一種發電方式都會有廢棄物，如果選擇支持的發電方式就是要把廢棄物放在自己家裡，那支持不同發電方式的人都要比照辦理？講的好像其他發電方式沒有任何廢料一樣？想騙誰啊？「按照這邏輯，請林穎孟議員今天就接天然氣跟燃煤的排氣管到你家？我是不是也要在市政質詢問柯文哲「天然氣、燃煤發電廢氣接管到大安文山的的可行性」？（我才不要，這個問題有夠白癡。）」\\n\\n徐巧芯強調，如果核廢料要放我家，那燃煤天然氣排氣就要排到林穎孟她家，我們兩個可以比賽誰先掛點。更關鍵的問題是，林穎孟難道不知道此時此刻我們都還在用核電？而且持續產出核廢料？如果這麼害怕核能發電以及核廢料，請提案立刻停止核二、核三發電？不要一方面爽用核電，一方面又以造謠的方式污衊。愛用又愛罵，最不負責任也最噁心。\\n\\n徐巧芯也酸，林穎孟這種問政品質跟方式，大概就跟她苛待助理，被勞動部裁決認定「慣老闆」，最高會被開罰10萬元，但她在臉書上卻說勞動部「還她清白」一樣。連對自己的員工都壓榨，還在臉書上避重就輕說謊，這種人會故意拿笨題目去議會質詢，搞笑不自知，還洋洋得意倒也不意外\\n\\n「雙姝」再互鬥\\n\\n在徐巧芯發文不久，林穎孟留言表示，「可愛的巧芯，我特別把你的名字遮起來，就是不想讓別人知道你提出『核廢料放你家』的方案。結果你自己跳進來了，真的很可愛。提出這個方案的人是你，影響台北市市民生活的是你，你自己不負責任的做政策討論，還繼續PO文見笑登生氣。我建議你，既然你支持核四重啟，就要提出負責任的核廢料解決方案，千萬不要再講『核廢料放你家你ＯＫ』這種可愛的方案了喔！」\\n\\n另外，林穎孟也在臉書發文同樣的話，指示又額外附註「今早所有議員開會時間，你根本沒出席，還有看我的質詢，真是用心啊，我給你鼓掌」。\\n\\n對於林穎孟的留言，徐巧芯留言回嗆，「我又沒有怕人知道？這又不是很丟臉的事情，不像是壓榨勞工被勞動部裁罰那樣子。」至於林穎孟附註的部分，徐巧芯則更新臉書文說，「關於林穎孟在她的臉書抹黑我缺席今天的專案報告，事實是我有出席而且還比她早來，她走進來的時候我早就坐在裡面了，一直到市長報告完畢都在，很懷疑她的眼睛是不是被廢氣矇住了？好可憐」。\\n\\n\\n\\n原文網址: 「核廢料放我家」引爆雙姝鬥\\u3000徐巧芯嗆林穎孟：眼睛被廢氣矇住？ | ETtoday政治新聞 | ETtoday新聞雲 https://www.ettoday.net/news/20211104/2116439.htm#ixzz7BEmowdFM\\nFollow us: @ETtodaynet on Twitter | ETtoday on Facebook'"
            ]
          },
          "metadata": {},
          "execution_count": 3
        }
      ]
    },
    {
      "cell_type": "code",
      "metadata": {
        "id": "dCNLGIO_MjaK",
        "colab": {
          "base_uri": "https://localhost:8080/"
        },
        "outputId": "73502dfd-c5e4-4452-9ef5-651e9bb080bc"
      },
      "source": [
        "import jieba\n",
        "from urllib.request import urlretrieve\n",
        "# 1. 載入大辭典\n",
        "url = \"https://github.com/fxsjy/jieba/raw/master/extra_dict/dict.txt.big\"\n",
        "urlretrieve(url, \"dict.txt.big\")\n",
        "jieba.set_dictionary(\"dict.txt.big\")\n",
        "# 2. 載入自定義辭典\n",
        "url = \"https://github.com/Elwing-Chou/tibaml1027/raw/main/politics.txt\"\n",
        "urlretrieve(url, \"politics.txt\")\n",
        "jieba.load_userdict(\"politics.txt\")"
      ],
      "execution_count": 7,
      "outputs": [
        {
          "output_type": "stream",
          "name": "stderr",
          "text": [
            "Building prefix dict from /content/dict.txt.big ...\n",
            "Dumping model to file cache /tmp/jieba.u501edca284da514cb68b53a20324f4e3.cache\n",
            "Loading model cost 1.791 seconds.\n",
            "Prefix dict has been built successfully.\n"
          ]
        }
      ]
    },
    {
      "cell_type": "code",
      "metadata": {
        "colab": {
          "base_uri": "https://localhost:8080/",
          "height": 230
        },
        "id": "ChBeLePfTdRb",
        "outputId": "8c5907f7-ed12-44dd-a433-71d61bce32a5"
      },
      "source": [
        "\" \".join(jieba.cut(article))"
      ],
      "execution_count": 8,
      "outputs": [
        {
          "output_type": "execute_result",
          "data": {
            "application/vnd.google.colaboratory.intrinsic+json": {
              "type": "string"
            },
            "text/plain": [
              "'4 大 公投 在 即 ， 台北市 議員 林穎孟 4 日 針對 核廢料 處置 問題 詢問 台北 市長 柯文哲 ， 並 提到 另 一位 北 市議員 徐巧芯 曾稱 「 可以 放 我家 的話 我 OK 」 ， 再次 點燃 與 徐巧芯 的 戰火 。 徐巧芯 回 嗆 ， 反核 是 妳 的 自由 ， 但 可不可以 少問 腦殘 問題 ？ 這種 問政 品質 跟 方式 ， 大概 就 跟 她 苛待 助理 ， 被 勞動部 裁決 認定 「 慣老闆 」 ， 最高 會 被 開罰 10 萬元 ， 但 她 在 臉 書上 卻說 勞動部 「 還 她 清白 」 一樣 。 \\n \\n \\n 柯文哲 4 日 上午 赴 台北市 議會 進行 專案 報告 ， 林穎孟 詢問 柯文哲 ， 支持 重啟 核四 的 人 有無 提出 核廢料 怎麼 處置 ？ 柯文哲 回答 「 沒有 。 」 接著 ， 林穎 孟秀出 一個 經 處理 過的 臉書 截圖 ， 指出 「 你 漏 了 一個 人 」 ， 有 松山 、 信義 區的 議員 曾稱 核廢料 可以 放 她家 。 \\n \\n 為 此 ， 林穎孟 再問 柯文哲 ， 核廢料 放在 松山 、 信義 區的 可能性 ？ 技術 上 有 可能 嗎 ？ 你 反對 核廢料 放在 台北市 嗎 ？ 柯文哲 則 表示 ， 不會 啦 ， 技術 上 雖然 可能 ， 但 風險 評估 不 適合 ， 核廢料 不會 放在 人口 密集區 ， 也 不會 放在 台北市 。 至於 該 台北市 議員 是 誰 ？ 其實 從 臉書 大頭貼 來看 就是 徐巧芯 ， 她 今年 3 月 時 在 臉書稱 「 可以 放 我家 的話 我 OK 」 ； 有趣 的 是 ， 當時 也 是 「 雙姝互鬥 」 。 \\n \\n 徐巧芯 反擊 林穎孟 \\n \\n 對於 林穎孟 今天 的 行為 ， 徐巧芯 隨即 透過 臉書 反擊 ， 「 要 反核 是 你 的 自由 ， 但 可不可以 少問 一些 腦殘 問題 ？ 」 實際上 核廢料 根本 沒有 多到 要 放在 任何 人家 ， 全台灣 需要 核廢料 的 空間 大概 7 公頃 左右 ， 核電廠 的 面積 有 1100 公頃 ， 放在 核電廠 內 安全 又 好 控管 。 就 偏偏 有 一些 沒有 任何 科學 觀念 可言 的 人 ， 以為 核廢料 跟 家庭 垃圾 一樣 多 ， 或是 核廢料 不 需要 處理 直接 裸露 燃料 棒 放在 路邊 ， 才 喜歡 到處 問 別人 這個 傻 問題 。 \\n \\n 徐巧芯 說 ， 退 一萬步 而言 ， 任何 一種 發電 方式 都 會 有 廢棄物 ， 如果 選擇 支持 的 發電 方式 就是 要 把 廢棄物 放在 自己 家裡 ， 那 支持 不同 發電 方式 的 人 都 要 比照辦理 ？ 講的 好像 其他 發電 方式 沒有 任何 廢料 一樣 ？ 想 騙 誰 啊 ？ 「 按照 這 邏輯 ， 請林穎孟 議員 今天 就 接 天然氣 跟 燃煤 的 排氣管 到 你家 ？ 我 是不是 也 要 在 市政 質詢 問 柯文哲 「 天然氣 、 燃煤 發電 廢氣 接管 到 大安 文山 的 的 可行性 」 ？ （ 我 才 不要 ， 這個 問題 有夠 白癡 。 ） 」 \\n \\n 徐巧芯 強調 ， 如果 核廢料 要放 我家 ， 那 燃煤 天然氣 排氣 就要 排到 林穎孟 她家 ， 我們 兩個 可以 比賽 誰 先 掛點 。 更 關鍵 的 問題 是 ， 林穎孟 難道 不 知道 此時此刻 我們 都 還在 用 核電 ？ 而且 持續 產出 核廢料 ？ 如果 這麼 害怕 核能 發電 以及 核廢料 ， 請 提案 立刻 停止 核二 、 核三 發電 ？ 不要 一方面 爽用 核電 ， 一方面 又 以 造謠 的 方式 污衊 。 愛用 又 愛罵 ， 最 不負責任 也 最 噁心 。 \\n \\n 徐巧芯 也 酸 ， 林穎孟 這種 問政 品質 跟 方式 ， 大概 就 跟 她 苛待 助理 ， 被 勞動部 裁決 認定 「 慣老闆 」 ， 最高 會 被 開罰 10 萬元 ， 但 她 在 臉 書上 卻說 勞動部 「 還 她 清白 」 一樣 。 連對 自己 的 員工 都 壓榨 ， 還在 臉 書上 避重就輕 說謊 ， 這種 人會 故意 拿 笨 題目 去 議會 質詢 ， 搞笑 不 自知 ， 還 洋洋得意 倒也不 意外 \\n \\n 「 雙姝 」 再 互鬥 \\n \\n 在 徐巧芯 發文 不久 ， 林穎孟 留言 表示 ， 「 可愛 的 巧 芯 ， 我 特別 把 你 的 名字 遮起來 ， 就是 不想 讓 別人 知道 你 提出 『 核廢料 放 你家 』 的 方案 。 結果 你 自己 跳進來 了 ， 真的 很 可愛 。 提出 這個 方案 的 人 是 你 ， 影響 台北市 市民 生活 的 是 你 ， 你 自己 不負責任 的 做 政策 討論 ， 還 繼續 PO 文 見笑 登 生氣 。 我 建議 你 ， 既然 你 支持 核 四重 啟 ， 就要 提出 負責 任 的 核廢料 解決方案 ， 千萬 不要 再講 『 核廢料 放 你家 你 Ｏ Ｋ 』 這種 可愛 的 方案 了 喔 ！ 」 \\n \\n 另外 ， 林穎孟 也 在 臉書 發文 同樣 的話 ， 指示 又 額外 附註 「 今早 所有 議員 開會時間 ， 你 根本 沒 出席 ， 還有 看 我 的 質詢 ， 真是 用心 啊 ， 我給 你 鼓掌 」 。 \\n \\n 對於 林穎孟 的 留言 ， 徐巧芯 留言 回 嗆 ， 「 我 又 沒有 怕人 知道 ？ 這又 不是 很 丟臉 的 事情 ， 不 像是 壓榨 勞工 被 勞動部 裁罰 那 樣子 。 」 至於 林穎孟 附註 的 部分 ， 徐巧芯 則 更新 臉書 文說 ， 「 關於 林穎孟 在 她 的 臉書 抹黑 我 缺席 今天 的 專案 報告 ， 事實 是 我 有 出席 而且 還比 她 早來 ， 她 走 進來 的 時候 我 早就 坐在 裡面 了 ， 一直 到 市長 報告 完畢 都 在 ， 很 懷疑 她 的 眼睛 是不是 被 廢氣 矇住 了 ？ 好 可憐 」 。 \\n \\n \\n \\n 原文 網址 :   「 核廢料 放 我家 」 引爆 雙姝鬥 \\u3000 徐巧芯 嗆 林穎孟 ： 眼睛 被 廢氣 矇住 ？   |   ETtoday 政治 新聞   |   ETtoday 新聞 雲   https : / / www . ettoday . net / news / 20211104 / 2116439 . htm # ixzz7BEmowdFM \\n Follow   us :   @ ETtodaynet   on   Twitter   |   ETtoday   on   Facebook'"
            ]
          },
          "metadata": {},
          "execution_count": 8
        }
      ]
    },
    {
      "cell_type": "code",
      "metadata": {
        "colab": {
          "base_uri": "https://localhost:8080/"
        },
        "id": "G49HO_EgKvGh",
        "outputId": "49516a2d-e1cc-4235-9ed7-58e8b703850f"
      },
      "source": [
        "import jieba.analyse\n",
        "jieba.analyse.extract_tags(article)\n",
        "jieba.analyse.extract_tags(article, topK=None)\n",
        "jieba.analyse.extract_tags(article, topK=None, withWeight=True)\n",
        "jieba.analyse.extract_tags(article, topK=None, allowPOS=[\"n\", \"nr\", \"ns\"])"
      ],
      "execution_count": 9,
      "outputs": [
        {
          "output_type": "execute_result",
          "data": {
            "text/plain": [
              "['核廢料',\n",
              " '林穎孟',\n",
              " '徐巧芯',\n",
              " '柯文哲',\n",
              " '問題',\n",
              " '臉書',\n",
              " '議員',\n",
              " '勞動部',\n",
              " '台北市',\n",
              " '報告',\n",
              " '天然氣',\n",
              " '廢氣',\n",
              " '方式',\n",
              " '燃煤',\n",
              " '市長',\n",
              " '問政',\n",
              " '品質',\n",
              " '議會',\n",
              " '專案',\n",
              " '信義',\n",
              " '技術',\n",
              " '雙姝',\n",
              " '核電廠',\n",
              " '廢棄物',\n",
              " '核電',\n",
              " '發文',\n",
              " '新聞',\n",
              " '方案',\n",
              " '松山',\n",
              " '市議員',\n",
              " '戰火',\n",
              " '林穎',\n",
              " '孟秀',\n",
              " '風險',\n",
              " '密集區',\n",
              " '大頭貼',\n",
              " '行為',\n",
              " '台灣',\n",
              " '空間',\n",
              " '面積',\n",
              " '科學',\n",
              " '觀念',\n",
              " '比照辦理',\n",
              " '廢料',\n",
              " '邏輯',\n",
              " '排氣管',\n",
              " '白癡',\n",
              " '排氣',\n",
              " '掛點',\n",
              " '關鍵',\n",
              " '核二',\n",
              " '愛用',\n",
              " '噁心',\n",
              " '員工',\n",
              " '人會',\n",
              " '題目',\n",
              " '結果',\n",
              " '生氣',\n",
              " '建議',\n",
              " '解決方案',\n",
              " '樣子',\n",
              " '文說',\n",
              " '事實',\n",
              " '時候',\n",
              " '網址',\n",
              " '雙姝鬥',\n",
              " '眼睛',\n",
              " '文山',\n",
              " '缺席',\n",
              " '原文',\n",
              " '可行性',\n",
              " '台北',\n",
              " '核能',\n",
              " '用心',\n",
              " '垃圾',\n",
              " '市政',\n",
              " '燃料',\n",
              " '市民',\n",
              " '名字',\n",
              " '可能性',\n",
              " '家庭',\n",
              " '人家',\n",
              " '人口',\n",
              " '政治',\n",
              " '事情',\n",
              " '政策',\n",
              " '部分']"
            ]
          },
          "metadata": {},
          "execution_count": 9
        }
      ]
    }
  ]
}