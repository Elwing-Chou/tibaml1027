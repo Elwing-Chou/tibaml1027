{
  "nbformat": 4,
  "nbformat_minor": 0,
  "metadata": {
    "colab": {
      "name": "tools.ipynb",
      "provenance": [],
      "authorship_tag": "ABX9TyP3akAXu3O7LjglWRLq2CSO",
      "include_colab_link": true
    },
    "kernelspec": {
      "name": "python3",
      "display_name": "Python 3"
    },
    "language_info": {
      "name": "python"
    }
  },
  "cells": [
    {
      "cell_type": "markdown",
      "metadata": {
        "id": "view-in-github",
        "colab_type": "text"
      },
      "source": [
        "<a href=\"https://colab.research.google.com/github/Elwing-Chou/tibaml1027/blob/main/tools.ipynb\" target=\"_parent\"><img src=\"https://colab.research.google.com/assets/colab-badge.svg\" alt=\"Open In Colab\"/></a>"
      ]
    },
    {
      "cell_type": "code",
      "metadata": {
        "id": "YQzLN7FGBg-2"
      },
      "source": [
        "!pip install opencc-python-reimplemented"
      ],
      "execution_count": null,
      "outputs": []
    },
    {
      "cell_type": "code",
      "metadata": {
        "colab": {
          "base_uri": "https://localhost:8080/",
          "height": 70
        },
        "id": "ZTtuvVxTDP_V",
        "outputId": "1e89b901-82bd-4879-cd78-beec87b2ba96"
      },
      "source": [
        "from opencc import OpenCC\n",
        "cc = OpenCC('s2tw')\n",
        "to_convert = \"\"\"繁体中文。\n",
        "为什么会觉得烦呢？也许让我们学写繁体中文的话，我们可能会烦。\n",
        "主要看所处的环境。\n",
        "如果楼主从一出生就学的是繁体中文的话，现在让你学写简体中文，你也会烦的。如果一个英语为母语的国家，让他们的人民学中文，不管是繁体还是简体都会烦。\n",
        "要你用你的纯母语来书写，应该是最顺手的吧\"\"\"\n",
        "converted = cc.convert(to_convert)\n",
        "converted"
      ],
      "execution_count": 3,
      "outputs": [
        {
          "output_type": "execute_result",
          "data": {
            "application/vnd.google.colaboratory.intrinsic+json": {
              "type": "string"
            },
            "text/plain": [
              "'繁體中文。\\n為什麼會覺得煩呢？也許讓我們學寫繁體中文的話，我們可能會煩。\\n主要看所處的環境。\\n如果樓主從一出生就學的是繁體中文的話，現在讓你學寫簡體中文，你也會煩的。如果一個英語為母語的國家，讓他們的人民學中文，不管是繁體還是簡體都會煩。\\n要你用你的純母語來書寫，應該是最順手的吧'"
            ]
          },
          "metadata": {},
          "execution_count": 3
        }
      ]
    }
  ]
}