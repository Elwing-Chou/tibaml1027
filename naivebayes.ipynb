{
  "nbformat": 4,
  "nbformat_minor": 0,
  "metadata": {
    "colab": {
      "name": "naivebayes.ipynb",
      "provenance": [],
      "authorship_tag": "ABX9TyPJYAe/lokzXjFsAQzbprJx",
      "include_colab_link": true
    },
    "kernelspec": {
      "name": "python3",
      "display_name": "Python 3"
    },
    "language_info": {
      "name": "python"
    }
  },
  "cells": [
    {
      "cell_type": "markdown",
      "metadata": {
        "id": "view-in-github",
        "colab_type": "text"
      },
      "source": [
        "<a href=\"https://colab.research.google.com/github/Elwing-Chou/tibaml1027/blob/main/naivebayes.ipynb\" target=\"_parent\"><img src=\"https://colab.research.google.com/assets/colab-badge.svg\" alt=\"Open In Colab\"/></a>"
      ]
    },
    {
      "cell_type": "code",
      "metadata": {
        "id": "qQHHhrdCe2vx"
      },
      "source": [
        "import pandas as pd\n",
        "from urllib.request import urlretrieve\n",
        "url = \"https://github.com/Elwing-Chou/tibaml1027/raw/main/poem_train.csv\"\n",
        "urlretrieve(url, \"train.csv\")\n",
        "train_df = pd.read_csv(\"train.csv\", encoding=\"utf-8\")\n",
        "url = \"https://github.com/Elwing-Chou/tibaml1027/raw/main/poem_test.csv\"\n",
        "urlretrieve(url, \"test.csv\")\n",
        "test_df = pd.read_csv(\"test.csv\", encoding=\"utf-8\")"
      ],
      "execution_count": 1,
      "outputs": []
    },
    {
      "cell_type": "code",
      "metadata": {
        "id": "mWgtjOf5fZDC"
      },
      "source": [
        "# train_df\n",
        "test_df"
      ],
      "execution_count": null,
      "outputs": []
    },
    {
      "cell_type": "code",
      "metadata": {
        "id": "xCSzHYjXidlq"
      },
      "source": [
        "# 示範如何作儲存\n",
        "dic = {\n",
        "    \"店名\":[],\n",
        "    \"食記\":[]\n",
        "}\n",
        "# ....\n",
        "dic[\"店名\"].append(\"大腕\")\n",
        "dic[\"食記\"].append('真的很好吃, \\n非常非常\"好吃\"')\n",
        "pd.DataFrame(dic).to_csv(\"eat.csv\", encoding=\"utf-8\", index=False)"
      ],
      "execution_count": 6,
      "outputs": []
    },
    {
      "cell_type": "code",
      "metadata": {
        "id": "VrTlmpMvgpTy"
      },
      "source": [
        "# 進到函式庫之前, 所有東西換成數字\n",
        "# 李白, 杜甫, 白居易 -> 0, 1, 2\n",
        "# Series.replace()"
      ],
      "execution_count": null,
      "outputs": []
    }
  ]
}