{
  "nbformat": 4,
  "nbformat_minor": 0,
  "metadata": {
    "colab": {
      "name": "naivebayes.ipynb",
      "provenance": [],
      "authorship_tag": "ABX9TyO1OpoeDngWtx5/H58oC5U4",
      "include_colab_link": true
    },
    "kernelspec": {
      "name": "python3",
      "display_name": "Python 3"
    },
    "language_info": {
      "name": "python"
    }
  },
  "cells": [
    {
      "cell_type": "markdown",
      "metadata": {
        "id": "view-in-github",
        "colab_type": "text"
      },
      "source": [
        "<a href=\"https://colab.research.google.com/github/Elwing-Chou/tibaml1027/blob/main/naivebayes.ipynb\" target=\"_parent\"><img src=\"https://colab.research.google.com/assets/colab-badge.svg\" alt=\"Open In Colab\"/></a>"
      ]
    },
    {
      "cell_type": "code",
      "metadata": {
        "id": "qQHHhrdCe2vx"
      },
      "source": [
        "import pandas as pd\n",
        "from urllib.request import urlretrieve\n",
        "url = \"https://github.com/Elwing-Chou/tibaml1027/raw/main/poem_train.csv\"\n",
        "urlretrieve(url, \"train.csv\")\n",
        "train_df = pd.read_csv(\"train.csv\", encoding=\"utf-8\")\n",
        "url = \"https://github.com/Elwing-Chou/tibaml1027/raw/main/poem_test.csv\"\n",
        "urlretrieve(url, \"test.csv\")\n",
        "test_df = pd.read_csv(\"test.csv\", encoding=\"utf-8\")"
      ],
      "execution_count": 1,
      "outputs": []
    },
    {
      "cell_type": "code",
      "metadata": {
        "colab": {
          "base_uri": "https://localhost:8080/",
          "height": 1000
        },
        "id": "mWgtjOf5fZDC",
        "outputId": "4d9ef2a5-c9b2-4755-f035-f3f1691eed29"
      },
      "source": [
        "# train_df\n",
        "test_df"
      ],
      "execution_count": 2,
      "outputs": [
        {
          "output_type": "execute_result",
          "data": {
            "text/html": [
              "<div>\n",
              "<style scoped>\n",
              "    .dataframe tbody tr th:only-of-type {\n",
              "        vertical-align: middle;\n",
              "    }\n",
              "\n",
              "    .dataframe tbody tr th {\n",
              "        vertical-align: top;\n",
              "    }\n",
              "\n",
              "    .dataframe thead th {\n",
              "        text-align: right;\n",
              "    }\n",
              "</style>\n",
              "<table border=\"1\" class=\"dataframe\">\n",
              "  <thead>\n",
              "    <tr style=\"text-align: right;\">\n",
              "      <th></th>\n",
              "      <th>作者</th>\n",
              "      <th>詩名</th>\n",
              "      <th>內容</th>\n",
              "    </tr>\n",
              "  </thead>\n",
              "  <tbody>\n",
              "    <tr>\n",
              "      <th>0</th>\n",
              "      <td>李白</td>\n",
              "      <td>望廬山瀑布</td>\n",
              "      <td>日照香爐生紫煙，遙看瀑布掛前川。飛流直下三千尺，疑是銀河落九天。</td>\n",
              "    </tr>\n",
              "    <tr>\n",
              "      <th>1</th>\n",
              "      <td>李白</td>\n",
              "      <td>早發白帝城</td>\n",
              "      <td>朝辭白帝彩雲間，千裡江陵一日還。兩岸猿聲啼不住，輕舟已過萬重山。</td>\n",
              "    </tr>\n",
              "    <tr>\n",
              "      <th>2</th>\n",
              "      <td>李白</td>\n",
              "      <td>贈汪倫</td>\n",
              "      <td>李白乘舟將欲行，忽聞岸上踏歌聲。桃花潭水深千尺，不及汪倫送我情。</td>\n",
              "    </tr>\n",
              "    <tr>\n",
              "      <th>3</th>\n",
              "      <td>李白</td>\n",
              "      <td>送孟浩然之廣陵</td>\n",
              "      <td>故人西辭黃鶴樓，煙花三月下揚州。孤帆遠影碧空儘，唯見長江天際流。</td>\n",
              "    </tr>\n",
              "    <tr>\n",
              "      <th>4</th>\n",
              "      <td>李白</td>\n",
              "      <td>夜宿山寺</td>\n",
              "      <td>危樓高百尺，手可摘星辰。不敢高聲語，恐驚天上人。</td>\n",
              "    </tr>\n",
              "    <tr>\n",
              "      <th>5</th>\n",
              "      <td>李白</td>\n",
              "      <td>靜夜思</td>\n",
              "      <td>床前明月光，疑是地上霜。舉頭望明月，低頭思故鄉。</td>\n",
              "    </tr>\n",
              "    <tr>\n",
              "      <th>6</th>\n",
              "      <td>李白</td>\n",
              "      <td>望天門山</td>\n",
              "      <td>天門中斷楚江開，碧水東流至此回。兩岸青山相對出，孤帆一片日邊來。</td>\n",
              "    </tr>\n",
              "    <tr>\n",
              "      <th>7</th>\n",
              "      <td>李白</td>\n",
              "      <td>獨坐敬亭山</td>\n",
              "      <td>眾鳥高飛儘，孤雲獨去閒。相看兩不厭，隻有敬亭山。</td>\n",
              "    </tr>\n",
              "    <tr>\n",
              "      <th>8</th>\n",
              "      <td>李白</td>\n",
              "      <td>登金陵鳳凰台</td>\n",
              "      <td>鳳凰台上鳳凰遊，鳳去台空江自流。吳宮花草埋幽徑，晉代衣冠成古丘。三山半落青天外，二水中分白鷺...</td>\n",
              "    </tr>\n",
              "    <tr>\n",
              "      <th>9</th>\n",
              "      <td>李白</td>\n",
              "      <td>渡荊門送彆</td>\n",
              "      <td>渡遠荊門外，來從楚國遊。山隨平野儘，江入大荒流。月下飛天境，雲生結海樓。仍憐故鄉水，萬裡送行舟。</td>\n",
              "    </tr>\n",
              "    <tr>\n",
              "      <th>10</th>\n",
              "      <td>杜甫</td>\n",
              "      <td>彆讚上人</td>\n",
              "      <td>百川日東流，客去亦不息。我生苦漂蕩，何時有終極。讚公釋門老，放逐來上國。還為世塵嬰，頗帶憔悴...</td>\n",
              "    </tr>\n",
              "    <tr>\n",
              "      <th>11</th>\n",
              "      <td>杜甫</td>\n",
              "      <td>龍門鎮</td>\n",
              "      <td>細泉兼輕冰，沮洳棧道濕。不辭辛苦行，迫此短景急。石門雪雲隘，古鎮峰巒集。旌竿暮慘澹，風水白刃...</td>\n",
              "    </tr>\n",
              "    <tr>\n",
              "      <th>12</th>\n",
              "      <td>杜甫</td>\n",
              "      <td>木皮嶺</td>\n",
              "      <td>首路栗亭西，尚想鳳凰村。季冬攜童稚，辛苦赴蜀門。南登木皮嶺，艱險不易論。汗流被我體，祁寒為之...</td>\n",
              "    </tr>\n",
              "    <tr>\n",
              "      <th>13</th>\n",
              "      <td>杜甫</td>\n",
              "      <td>落日</td>\n",
              "      <td>落日在簾鉤，溪邊春事幽。芳菲緣岸圃，樵爨倚灘舟。啅雀爭枝墜，飛蟲滿院遊。濁醪誰造汝，一酌散千憂。</td>\n",
              "    </tr>\n",
              "    <tr>\n",
              "      <th>14</th>\n",
              "      <td>杜甫</td>\n",
              "      <td>入奏行贈西山檢察使竇侍禦</td>\n",
              "      <td>竇侍禦，驥之子，鳳之雛。年未三十忠義俱，骨鯁絕代無。炯如一段清冰出萬壑，置在迎風寒露之玉壺。...</td>\n",
              "    </tr>\n",
              "    <tr>\n",
              "      <th>15</th>\n",
              "      <td>杜甫</td>\n",
              "      <td>麗春</td>\n",
              "      <td>百草競春華，麗春應最勝。少須好顏色，多漫枝條剩。紛紛桃李枝，處處總能移。如何貴此重，卻怕有人知。</td>\n",
              "    </tr>\n",
              "    <tr>\n",
              "      <th>16</th>\n",
              "      <td>杜甫</td>\n",
              "      <td>題玄武禪師屋壁</td>\n",
              "      <td>何年顧虎頭，滿壁畫瀛州。赤日石林氣，青天江海流。錫飛常近鶴，杯度不驚鷗。似得廬山路，真隨惠遠遊。</td>\n",
              "    </tr>\n",
              "    <tr>\n",
              "      <th>17</th>\n",
              "      <td>杜甫</td>\n",
              "      <td>謁文公上方</td>\n",
              "      <td>野寺隱喬木，山僧高下居。石門日色異，絳氣橫扶疏。窈窕入風磴，長蘆紛卷舒。庭前猛虎臥，遂得文公...</td>\n",
              "    </tr>\n",
              "    <tr>\n",
              "      <th>18</th>\n",
              "      <td>杜甫</td>\n",
              "      <td>杜鵑</td>\n",
              "      <td>西川有杜鵑，東川無杜鵑。涪萬無杜鵑，雲安有杜鵑。我昔遊錦城，結廬錦水邊。有竹一頃餘，喬木上參...</td>\n",
              "    </tr>\n",
              "    <tr>\n",
              "      <th>19</th>\n",
              "      <td>杜甫</td>\n",
              "      <td>縛雞行</td>\n",
              "      <td>小奴縛雞向市賣，雞被縛急相喧爭。家中厭雞食蟲蟻，不知雞賣還遭烹。蟲雞於人何厚薄，我斥奴人解其...</td>\n",
              "    </tr>\n",
              "    <tr>\n",
              "      <th>20</th>\n",
              "      <td>白居易</td>\n",
              "      <td>聽歌</td>\n",
              "      <td>管妙弦清歌入雲，老人合眼醉醺醺。誠知不及當年聽，猶覺聞時勝不聞。</td>\n",
              "    </tr>\n",
              "    <tr>\n",
              "      <th>21</th>\n",
              "      <td>白居易</td>\n",
              "      <td>追歡偶作</td>\n",
              "      <td>追歡逐樂少閒時，補帖平生得事遲。何處花開曾後看？誰家酒熟不先知？石樓月下吹蘆管，金穀風前舞柳...</td>\n",
              "    </tr>\n",
              "    <tr>\n",
              "      <th>22</th>\n",
              "      <td>白居易</td>\n",
              "      <td>酬夢得貧居詠懷見贈</td>\n",
              "      <td>歲陰生計兩蹉跎，相顧悠悠醉且歌。廚冷難留烏止屋，門閒可與雀張羅。[詩雲：贍烏爰止，於誰之屋？...</td>\n",
              "    </tr>\n",
              "    <tr>\n",
              "      <th>23</th>\n",
              "      <td>白居易</td>\n",
              "      <td>閒坐看書貽諸少年</td>\n",
              "      <td>雨砌長寒蕪，風庭落秋果。窗間有閒叟，儘日看書坐。書中見往事，曆曆知福禍。多取終厚亡，疾驅必先...</td>\n",
              "    </tr>\n",
              "    <tr>\n",
              "      <th>24</th>\n",
              "      <td>白居易</td>\n",
              "      <td>二年三月五日齋畢開素當食偶吟贈妻弘農郡君</td>\n",
              "      <td>睡足肢體暢，晨起開中堂。初旭泛簾幕，微風拂衣裳。二婢扶盥櫛，雙童舁簟床。庭東有茂樹，其下多陰...</td>\n",
              "    </tr>\n",
              "    <tr>\n",
              "      <th>25</th>\n",
              "      <td>白居易</td>\n",
              "      <td>履道西門二首</td>\n",
              "      <td>履道西門有弊居，池塘竹樹繞君廬。豪華肥壯雖無分，飽暖安閒即有餘。行灶朝香炊早飯，小園春暖掇新...</td>\n",
              "    </tr>\n",
              "    <tr>\n",
              "      <th>26</th>\n",
              "      <td>白居易</td>\n",
              "      <td>昨日複今辰</td>\n",
              "      <td>昨日複今辰，悠悠七十春。所經多故處，卻想似前身。散秩優遊老，閒居淨潔貧。螺杯中有物，鶴氅上無...</td>\n",
              "    </tr>\n",
              "    <tr>\n",
              "      <th>27</th>\n",
              "      <td>白居易</td>\n",
              "      <td>不與老為期</td>\n",
              "      <td>不與老為期，因何兩鬢絲？才應免夭促，便已及衰羸。昨夜夢何在，明朝身不知。百憂非我所，三樂是吾...</td>\n",
              "    </tr>\n",
              "    <tr>\n",
              "      <th>28</th>\n",
              "      <td>白居易</td>\n",
              "      <td>閒眠</td>\n",
              "      <td>暖床斜臥日曛腰，一覺閒眠百病銷。儘日一飧茶兩碗，更無所要到明朝。</td>\n",
              "    </tr>\n",
              "    <tr>\n",
              "      <th>29</th>\n",
              "      <td>白居易</td>\n",
              "      <td>和李相公留守題漕上新橋六韻　同用黎字。</td>\n",
              "      <td>選石鋪新路，安橋壓古堤。似從銀漢下，落傍玉川西。影定欄杆倒，標高華表齊。煙開虹半見，月冷鶴雙...</td>\n",
              "    </tr>\n",
              "  </tbody>\n",
              "</table>\n",
              "</div>"
            ],
            "text/plain": [
              "     作者  ...                                                 內容\n",
              "0    李白  ...                   日照香爐生紫煙，遙看瀑布掛前川。飛流直下三千尺，疑是銀河落九天。\n",
              "1    李白  ...                   朝辭白帝彩雲間，千裡江陵一日還。兩岸猿聲啼不住，輕舟已過萬重山。\n",
              "2    李白  ...                   李白乘舟將欲行，忽聞岸上踏歌聲。桃花潭水深千尺，不及汪倫送我情。\n",
              "3    李白  ...                   故人西辭黃鶴樓，煙花三月下揚州。孤帆遠影碧空儘，唯見長江天際流。\n",
              "4    李白  ...                           危樓高百尺，手可摘星辰。不敢高聲語，恐驚天上人。\n",
              "5    李白  ...                           床前明月光，疑是地上霜。舉頭望明月，低頭思故鄉。\n",
              "6    李白  ...                   天門中斷楚江開，碧水東流至此回。兩岸青山相對出，孤帆一片日邊來。\n",
              "7    李白  ...                           眾鳥高飛儘，孤雲獨去閒。相看兩不厭，隻有敬亭山。\n",
              "8    李白  ...  鳳凰台上鳳凰遊，鳳去台空江自流。吳宮花草埋幽徑，晉代衣冠成古丘。三山半落青天外，二水中分白鷺...\n",
              "9    李白  ...   渡遠荊門外，來從楚國遊。山隨平野儘，江入大荒流。月下飛天境，雲生結海樓。仍憐故鄉水，萬裡送行舟。\n",
              "10   杜甫  ...  百川日東流，客去亦不息。我生苦漂蕩，何時有終極。讚公釋門老，放逐來上國。還為世塵嬰，頗帶憔悴...\n",
              "11   杜甫  ...  細泉兼輕冰，沮洳棧道濕。不辭辛苦行，迫此短景急。石門雪雲隘，古鎮峰巒集。旌竿暮慘澹，風水白刃...\n",
              "12   杜甫  ...  首路栗亭西，尚想鳳凰村。季冬攜童稚，辛苦赴蜀門。南登木皮嶺，艱險不易論。汗流被我體，祁寒為之...\n",
              "13   杜甫  ...   落日在簾鉤，溪邊春事幽。芳菲緣岸圃，樵爨倚灘舟。啅雀爭枝墜，飛蟲滿院遊。濁醪誰造汝，一酌散千憂。\n",
              "14   杜甫  ...  竇侍禦，驥之子，鳳之雛。年未三十忠義俱，骨鯁絕代無。炯如一段清冰出萬壑，置在迎風寒露之玉壺。...\n",
              "15   杜甫  ...   百草競春華，麗春應最勝。少須好顏色，多漫枝條剩。紛紛桃李枝，處處總能移。如何貴此重，卻怕有人知。\n",
              "16   杜甫  ...   何年顧虎頭，滿壁畫瀛州。赤日石林氣，青天江海流。錫飛常近鶴，杯度不驚鷗。似得廬山路，真隨惠遠遊。\n",
              "17   杜甫  ...  野寺隱喬木，山僧高下居。石門日色異，絳氣橫扶疏。窈窕入風磴，長蘆紛卷舒。庭前猛虎臥，遂得文公...\n",
              "18   杜甫  ...  西川有杜鵑，東川無杜鵑。涪萬無杜鵑，雲安有杜鵑。我昔遊錦城，結廬錦水邊。有竹一頃餘，喬木上參...\n",
              "19   杜甫  ...  小奴縛雞向市賣，雞被縛急相喧爭。家中厭雞食蟲蟻，不知雞賣還遭烹。蟲雞於人何厚薄，我斥奴人解其...\n",
              "20  白居易  ...                   管妙弦清歌入雲，老人合眼醉醺醺。誠知不及當年聽，猶覺聞時勝不聞。\n",
              "21  白居易  ...  追歡逐樂少閒時，補帖平生得事遲。何處花開曾後看？誰家酒熟不先知？石樓月下吹蘆管，金穀風前舞柳...\n",
              "22  白居易  ...  歲陰生計兩蹉跎，相顧悠悠醉且歌。廚冷難留烏止屋，門閒可與雀張羅。[詩雲：贍烏爰止，於誰之屋？...\n",
              "23  白居易  ...  雨砌長寒蕪，風庭落秋果。窗間有閒叟，儘日看書坐。書中見往事，曆曆知福禍。多取終厚亡，疾驅必先...\n",
              "24  白居易  ...  睡足肢體暢，晨起開中堂。初旭泛簾幕，微風拂衣裳。二婢扶盥櫛，雙童舁簟床。庭東有茂樹，其下多陰...\n",
              "25  白居易  ...  履道西門有弊居，池塘竹樹繞君廬。豪華肥壯雖無分，飽暖安閒即有餘。行灶朝香炊早飯，小園春暖掇新...\n",
              "26  白居易  ...  昨日複今辰，悠悠七十春。所經多故處，卻想似前身。散秩優遊老，閒居淨潔貧。螺杯中有物，鶴氅上無...\n",
              "27  白居易  ...  不與老為期，因何兩鬢絲？才應免夭促，便已及衰羸。昨夜夢何在，明朝身不知。百憂非我所，三樂是吾...\n",
              "28  白居易  ...                   暖床斜臥日曛腰，一覺閒眠百病銷。儘日一飧茶兩碗，更無所要到明朝。\n",
              "29  白居易  ...  選石鋪新路，安橋壓古堤。似從銀漢下，落傍玉川西。影定欄杆倒，標高華表齊。煙開虹半見，月冷鶴雙...\n",
              "\n",
              "[30 rows x 3 columns]"
            ]
          },
          "metadata": {},
          "execution_count": 2
        }
      ]
    },
    {
      "cell_type": "code",
      "metadata": {
        "id": "xCSzHYjXidlq"
      },
      "source": [
        "# 示範如何作儲存\n",
        "dic = {\n",
        "    \"店名\":[],\n",
        "    \"食記\":[]\n",
        "}\n",
        "# ....\n",
        "dic[\"店名\"].append(\"大腕\")\n",
        "dic[\"食記\"].append('真的很好吃, \\n非常非常\"好吃\"')\n",
        "pd.DataFrame(dic).to_csv(\"eat.csv\", encoding=\"utf-8\", index=False)"
      ],
      "execution_count": 3,
      "outputs": []
    },
    {
      "cell_type": "code",
      "metadata": {
        "colab": {
          "base_uri": "https://localhost:8080/"
        },
        "id": "VrTlmpMvgpTy",
        "outputId": "2d899288-7db6-4d44-8731-65d91c49112b"
      },
      "source": [
        "# 進到函式庫之前, 所有東西換成數字\n",
        "# 李白, 杜甫, 白居易 -> 0, 1, 2\n",
        "# Series.replace({\"李白\":0, \"杜甫\":1})\n",
        "# Series.unique/value_counts\n",
        "u = train_df[\"作者\"].unique()\n",
        "# name2idx = {}\n",
        "# for i, n in enumerate(u):\n",
        "#    name2idx[n] = i\n",
        "# 你也可以試試看: [i ** 2 for i in range(5)]\n",
        "name2idx = {n:i for i, n in enumerate(u)}\n",
        "idx2name = {i:n for i, n in enumerate(u)}\n",
        "y_train = train_df[\"作者\"].replace(name2idx)\n",
        "y_test = test_df[\"作者\"].replace(name2idx)\n",
        "y_test"
      ],
      "execution_count": 4,
      "outputs": [
        {
          "output_type": "execute_result",
          "data": {
            "text/plain": [
              "0     0\n",
              "1     0\n",
              "2     0\n",
              "3     0\n",
              "4     0\n",
              "5     0\n",
              "6     0\n",
              "7     0\n",
              "8     0\n",
              "9     0\n",
              "10    1\n",
              "11    1\n",
              "12    1\n",
              "13    1\n",
              "14    1\n",
              "15    1\n",
              "16    1\n",
              "17    1\n",
              "18    1\n",
              "19    1\n",
              "20    2\n",
              "21    2\n",
              "22    2\n",
              "23    2\n",
              "24    2\n",
              "25    2\n",
              "26    2\n",
              "27    2\n",
              "28    2\n",
              "29    2\n",
              "Name: 作者, dtype: int64"
            ]
          },
          "metadata": {},
          "execution_count": 4
        }
      ]
    },
    {
      "cell_type": "code",
      "metadata": {
        "colab": {
          "base_uri": "https://localhost:8080/"
        },
        "id": "radThYIBqdzT",
        "outputId": "5d6656a0-a875-468b-8ef5-4d4d7d8e756c"
      },
      "source": [
        "# 凡事皆物件: 每一個東西都有型態, 每個形態都有自己可以做的事\n",
        "# dic = {\"name\":\"Elwing\"}\n",
        "# dic[\"name\"]\n",
        "# print(\"hello\") -> print = dic, (\"hello\") = [\"name\"]\n",
        "# print: 函式(SOP)型態 (\"hello\"): 函式型態才能做的操作(執行這份SOP)\n",
        "# print「不加小括號」他的地位跟數字, 字串, list, dic一樣的\n",
        "# 1\n",
        "b = round\n",
        "b(4.232323, 2)\n",
        "# 2\n",
        "def test():\n",
        "    return round\n",
        "test()(51.2121341243, 2)\n",
        "# 3\n",
        "class Person:\n",
        "    def __init__(self, h, w):\n",
        "        self.height = h\n",
        "        self.weight = w\n",
        "    def bmi(self):\n",
        "        return self.weight / (self.height / 100) ** 2\n",
        "b = Person\n",
        "b(175, 75).bmi()"
      ],
      "execution_count": 5,
      "outputs": [
        {
          "output_type": "execute_result",
          "data": {
            "text/plain": [
              "24.489795918367346"
            ]
          },
          "metadata": {},
          "execution_count": 5
        }
      ]
    },
    {
      "cell_type": "code",
      "metadata": {
        "id": "wb9IO_7FpsJu"
      },
      "source": [
        "# Series.apply(func)\n",
        "import jieba\n",
        "# s = \"百川日東流，客去亦不息。我生苦漂蕩，何時有終極。\"\n",
        "# \" \".join(jieba.cut(s))\n",
        "def poemcut(p):\n",
        "    return \" \".join(jieba.cut(p))\n",
        "x_train = train_df[\"內容\"].apply(poemcut)\n",
        "x_test = test_df[\"內容\"].apply(poemcut)\n",
        "x_test"
      ],
      "execution_count": null,
      "outputs": []
    },
    {
      "cell_type": "code",
      "metadata": {
        "id": "49s3FkSST2K1"
      },
      "source": [
        "from sklearn.feature_extraction.text import CountVectorizer\n",
        "vec = CountVectorizer()\n",
        "x_train_count = vec.fit_transform(x_train)\n",
        "x_test_count = vec.transform(x_test)"
      ],
      "execution_count": 26,
      "outputs": []
    },
    {
      "cell_type": "code",
      "metadata": {
        "colab": {
          "base_uri": "https://localhost:8080/"
        },
        "id": "r5uY4BV1Z4ye",
        "outputId": "86245185-e52b-4ac7-e0db-b8efa11808a8"
      },
      "source": [
        "x_train"
      ],
      "execution_count": 36,
      "outputs": [
        {
          "output_type": "execute_result",
          "data": {
            "text/plain": [
              "0       平林 漠漠 煙如織 ， 寒山 一帶 傷心 碧 。 \\r\\n 暝 色入 高樓 ， 有人 樓上 ...\n",
              "1       青天 有 月 來 幾時 ， 我今 停杯 一問 之 ： 人攀 明月 不可 得 ， 月行 卻 與...\n",
              "2       燕草 如碧絲 ， 秦桑低 綠枝 。 當君 懷歸日 ， 是 妾 斷腸時 。 春風 不 相識 ，...\n",
              "3       誰 家玉笛 暗飛聲 ， 散 入春 風滿 洛城 。 此 夜曲 中聞折 柳 ， 何人 不起 故園情 。\n",
              "4       西上 蓮 花山 ， 迢迢 見 明星 。 ( 西 上   一作 ： 西 嶽 ) 素 手把 芙蓉...\n",
              "                              ...                        \n",
              "2726    零落 桐葉雨 ， 蕭條 槿 花風 。 悠悠 早 秋意 ， 生此 幽閒 中 。 況 與 故人 ...\n",
              "2727    離離 暑雲散 ， 嫋嫋 涼風起 。 池上 秋 又 來 ， 荷花 半成 子 。 朱顏易銷 歇 ...\n",
              "2728    涼風 冷露 蕭索天 ， 黃 蒿 紫菊荒 涼田 。 繞 塚 秋花少 顏色 ， 細蟲 小蝶飛 翻...\n",
              "2729    往歲 曾 為 西邑吏 ， 慣 從 駱口 到 南秦 。 \\r\\n 三時 雲冷多 飛雪 ， 二月...\n",
              "2730    笛 竹出 蘄 春 ， 霜刀 劈翠筠 。 織成 雙鎖 簟 ， 寄 與 獨眠 人 。 卷作筒 中...\n",
              "Name: 內容, Length: 2731, dtype: object"
            ]
          },
          "metadata": {},
          "execution_count": 36
        }
      ]
    },
    {
      "cell_type": "code",
      "metadata": {
        "colab": {
          "base_uri": "https://localhost:8080/"
        },
        "id": "A1EjqhvDUJIO",
        "outputId": "1534c99d-bc93-4836-9aa0-bb864d4d795d"
      },
      "source": [
        "# print(x_train_count)\n",
        "x_test_count"
      ],
      "execution_count": 27,
      "outputs": [
        {
          "output_type": "execute_result",
          "data": {
            "text/plain": [
              "<30x52294 sparse matrix of type '<class 'numpy.int64'>'\n",
              "\twith 352 stored elements in Compressed Sparse Row format>"
            ]
          },
          "metadata": {},
          "execution_count": 27
        }
      ]
    },
    {
      "cell_type": "code",
      "metadata": {
        "id": "3kGX0eMxXsR1"
      },
      "source": [
        "# check標點和換行沒被算進去(。, \\n, \\r\\n): KeyError才是對的\n",
        "# vec.vocabulary_[\"\\r\\n\"]"
      ],
      "execution_count": 34,
      "outputs": []
    },
    {
      "cell_type": "code",
      "metadata": {
        "colab": {
          "base_uri": "https://localhost:8080/"
        },
        "id": "pH4JKhHgbrPe",
        "outputId": "a67466c2-242e-40e1-d784-fdf8b75695aa"
      },
      "source": [
        "from sklearn.naive_bayes import MultinomialNB\n",
        "clf = MultinomialNB()\n",
        "clf.fit(x_train_count, y_train)"
      ],
      "execution_count": 39,
      "outputs": [
        {
          "output_type": "execute_result",
          "data": {
            "text/plain": [
              "MultinomialNB(alpha=1.0, class_prior=None, fit_prior=True)"
            ]
          },
          "metadata": {},
          "execution_count": 39
        }
      ]
    },
    {
      "cell_type": "code",
      "metadata": {
        "colab": {
          "base_uri": "https://localhost:8080/"
        },
        "id": "PhQZhBi-b5ap",
        "outputId": "e0502870-6eb6-4933-d7d8-8cac28d96f77"
      },
      "source": [
        "from sklearn.metrics import accuracy_score\n",
        "pre = clf.predict(x_test_count)\n",
        "accuracy_score(pre, y_test)"
      ],
      "execution_count": 74,
      "outputs": [
        {
          "output_type": "execute_result",
          "data": {
            "text/plain": [
              "0.8"
            ]
          },
          "metadata": {},
          "execution_count": 74
        }
      ]
    },
    {
      "cell_type": "code",
      "metadata": {
        "colab": {
          "base_uri": "https://localhost:8080/",
          "height": 142
        },
        "id": "m_aA6M9UjJXw",
        "outputId": "45aa9aa5-7e75-4145-d371-485257362258"
      },
      "source": [
        "from sklearn.metrics import confusion_matrix\n",
        "pd.DataFrame(confusion_matrix(y_test, pre),\n",
        "             index=[\"{}(正確)\".format(n) for n in u],\n",
        "             columns=[\"{}(預測)\".format(n) for n in u])"
      ],
      "execution_count": 76,
      "outputs": [
        {
          "output_type": "execute_result",
          "data": {
            "text/html": [
              "<div>\n",
              "<style scoped>\n",
              "    .dataframe tbody tr th:only-of-type {\n",
              "        vertical-align: middle;\n",
              "    }\n",
              "\n",
              "    .dataframe tbody tr th {\n",
              "        vertical-align: top;\n",
              "    }\n",
              "\n",
              "    .dataframe thead th {\n",
              "        text-align: right;\n",
              "    }\n",
              "</style>\n",
              "<table border=\"1\" class=\"dataframe\">\n",
              "  <thead>\n",
              "    <tr style=\"text-align: right;\">\n",
              "      <th></th>\n",
              "      <th>李白(預測)</th>\n",
              "      <th>杜甫(預測)</th>\n",
              "      <th>白居易(預測)</th>\n",
              "    </tr>\n",
              "  </thead>\n",
              "  <tbody>\n",
              "    <tr>\n",
              "      <th>李白(正確)</th>\n",
              "      <td>8</td>\n",
              "      <td>1</td>\n",
              "      <td>1</td>\n",
              "    </tr>\n",
              "    <tr>\n",
              "      <th>杜甫(正確)</th>\n",
              "      <td>1</td>\n",
              "      <td>8</td>\n",
              "      <td>1</td>\n",
              "    </tr>\n",
              "    <tr>\n",
              "      <th>白居易(正確)</th>\n",
              "      <td>1</td>\n",
              "      <td>1</td>\n",
              "      <td>8</td>\n",
              "    </tr>\n",
              "  </tbody>\n",
              "</table>\n",
              "</div>"
            ],
            "text/plain": [
              "         李白(預測)  杜甫(預測)  白居易(預測)\n",
              "李白(正確)        8       1        1\n",
              "杜甫(正確)        1       8        1\n",
              "白居易(正確)       1       1        8"
            ]
          },
          "metadata": {},
          "execution_count": 76
        }
      ]
    }
  ]
}