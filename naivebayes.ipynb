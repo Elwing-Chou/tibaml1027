{
  "nbformat": 4,
  "nbformat_minor": 0,
  "metadata": {
    "colab": {
      "name": "naivebayes.ipynb",
      "provenance": [],
      "authorship_tag": "ABX9TyMY2nbPaPAI1dSLWtpe54Xa",
      "include_colab_link": true
    },
    "kernelspec": {
      "name": "python3",
      "display_name": "Python 3"
    },
    "language_info": {
      "name": "python"
    }
  },
  "cells": [
    {
      "cell_type": "markdown",
      "metadata": {
        "id": "view-in-github",
        "colab_type": "text"
      },
      "source": [
        "<a href=\"https://colab.research.google.com/github/Elwing-Chou/tibaml1027/blob/main/naivebayes.ipynb\" target=\"_parent\"><img src=\"https://colab.research.google.com/assets/colab-badge.svg\" alt=\"Open In Colab\"/></a>"
      ]
    },
    {
      "cell_type": "code",
      "metadata": {
        "id": "qQHHhrdCe2vx"
      },
      "source": [
        "import pandas as pd\n",
        "from urllib.request import urlretrieve\n",
        "url = \"https://github.com/Elwing-Chou/tibaml1027/raw/main/poem_train.csv\"\n",
        "urlretrieve(url, \"train.csv\")\n",
        "train_df = pd.read_csv(\"train.csv\", encoding=\"utf-8\")\n",
        "url = \"https://github.com/Elwing-Chou/tibaml1027/raw/main/poem_test.csv\"\n",
        "urlretrieve(url, \"test.csv\")\n",
        "test_df = pd.read_csv(\"test.csv\", encoding=\"utf-8\")"
      ],
      "execution_count": 1,
      "outputs": []
    },
    {
      "cell_type": "code",
      "metadata": {
        "id": "mWgtjOf5fZDC"
      },
      "source": [
        "# train_df\n",
        "test_df"
      ],
      "execution_count": null,
      "outputs": []
    },
    {
      "cell_type": "code",
      "metadata": {
        "id": "xCSzHYjXidlq"
      },
      "source": [
        "# 示範如何作儲存\n",
        "dic = {\n",
        "    \"店名\":[],\n",
        "    \"食記\":[]\n",
        "}\n",
        "# ....\n",
        "dic[\"店名\"].append(\"大腕\")\n",
        "dic[\"食記\"].append('真的很好吃, \\n非常非常\"好吃\"')\n",
        "pd.DataFrame(dic).to_csv(\"eat.csv\", encoding=\"utf-8\", index=False)"
      ],
      "execution_count": 6,
      "outputs": []
    },
    {
      "cell_type": "code",
      "metadata": {
        "colab": {
          "base_uri": "https://localhost:8080/"
        },
        "id": "VrTlmpMvgpTy",
        "outputId": "702fcddf-a682-4c7f-df59-6bff5bc10e2e"
      },
      "source": [
        "# 進到函式庫之前, 所有東西換成數字\n",
        "# 李白, 杜甫, 白居易 -> 0, 1, 2\n",
        "# Series.replace({\"李白\":0, \"杜甫\":1})\n",
        "# Series.unique/value_counts\n",
        "u = train_df[\"作者\"].unique()\n",
        "# name2idx = {}\n",
        "# for i, n in enumerate(u):\n",
        "#    name2idx[n] = i\n",
        "# 你也可以試試看: [i ** 2 for i in range(5)]\n",
        "name2idx = {n:i for i, n in enumerate(u)}\n",
        "idx2name = {i:n for i, n in enumerate(u)}\n",
        "y_train = train_df[\"作者\"].replace(name2idx)\n",
        "y_test = test_df[\"作者\"].replace(name2idx)\n",
        "y_test"
      ],
      "execution_count": 19,
      "outputs": [
        {
          "output_type": "execute_result",
          "data": {
            "text/plain": [
              "0     0\n",
              "1     0\n",
              "2     0\n",
              "3     0\n",
              "4     0\n",
              "5     0\n",
              "6     0\n",
              "7     0\n",
              "8     0\n",
              "9     0\n",
              "10    1\n",
              "11    1\n",
              "12    1\n",
              "13    1\n",
              "14    1\n",
              "15    1\n",
              "16    1\n",
              "17    1\n",
              "18    1\n",
              "19    1\n",
              "20    2\n",
              "21    2\n",
              "22    2\n",
              "23    2\n",
              "24    2\n",
              "25    2\n",
              "26    2\n",
              "27    2\n",
              "28    2\n",
              "29    2\n",
              "Name: 作者, dtype: int64"
            ]
          },
          "metadata": {},
          "execution_count": 19
        }
      ]
    }
  ]
}