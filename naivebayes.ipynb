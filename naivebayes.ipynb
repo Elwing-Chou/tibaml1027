{
  "nbformat": 4,
  "nbformat_minor": 0,
  "metadata": {
    "colab": {
      "name": "naivebayes.ipynb",
      "provenance": [],
      "authorship_tag": "ABX9TyOx5fS4bd7yHzR2eFzVAonr",
      "include_colab_link": true
    },
    "kernelspec": {
      "name": "python3",
      "display_name": "Python 3"
    },
    "language_info": {
      "name": "python"
    }
  },
  "cells": [
    {
      "cell_type": "markdown",
      "metadata": {
        "id": "view-in-github",
        "colab_type": "text"
      },
      "source": [
        "<a href=\"https://colab.research.google.com/github/Elwing-Chou/tibaml1027/blob/main/naivebayes.ipynb\" target=\"_parent\"><img src=\"https://colab.research.google.com/assets/colab-badge.svg\" alt=\"Open In Colab\"/></a>"
      ]
    },
    {
      "cell_type": "code",
      "metadata": {
        "id": "qQHHhrdCe2vx"
      },
      "source": [
        "import pandas as pd\n",
        "from urllib.request import urlretrieve\n",
        "url = \"https://github.com/Elwing-Chou/tibaml1027/raw/main/poem_train.csv\"\n",
        "urlretrieve(url, \"train.csv\")\n",
        "train_df = pd.read_csv(\"train.csv\", encoding=\"utf-8\")\n",
        "url = \"https://github.com/Elwing-Chou/tibaml1027/raw/main/poem_test.csv\"\n",
        "urlretrieve(url, \"test.csv\")\n",
        "test_df = pd.read_csv(\"test.csv\", encoding=\"utf-8\")"
      ],
      "execution_count": 1,
      "outputs": []
    },
    {
      "cell_type": "code",
      "metadata": {
        "id": "mWgtjOf5fZDC"
      },
      "source": [
        "# train_df\n",
        "test_df"
      ],
      "execution_count": null,
      "outputs": []
    },
    {
      "cell_type": "code",
      "metadata": {
        "id": "xCSzHYjXidlq"
      },
      "source": [
        "# 示範如何作儲存\n",
        "dic = {\n",
        "    \"店名\":[],\n",
        "    \"食記\":[]\n",
        "}\n",
        "# ....\n",
        "dic[\"店名\"].append(\"大腕\")\n",
        "dic[\"食記\"].append('真的很好吃, \\n非常非常\"好吃\"')\n",
        "pd.DataFrame(dic).to_csv(\"eat.csv\", encoding=\"utf-8\", index=False)"
      ],
      "execution_count": 6,
      "outputs": []
    },
    {
      "cell_type": "code",
      "metadata": {
        "id": "VrTlmpMvgpTy"
      },
      "source": [
        "# 進到函式庫之前, 所有東西換成數字\n",
        "# 李白, 杜甫, 白居易 -> 0, 1, 2\n",
        "# Series.replace({\"李白\":0, \"杜甫\":1})\n",
        "# Series.unique/value_counts\n",
        "u = train_df[\"作者\"].unique()\n",
        "# name2idx = {}\n",
        "# for i, n in enumerate(u):\n",
        "#    name2idx[n] = i\n",
        "# 你也可以試試看: [i ** 2 for i in range(5)]\n",
        "name2idx = {n:i for i, n in enumerate(u)}\n",
        "idx2name = {i:n for i, n in enumerate(u)}\n",
        "y_train = train_df[\"作者\"].replace(name2idx)\n",
        "y_test = test_df[\"作者\"].replace(name2idx)\n",
        "y_test"
      ],
      "execution_count": null,
      "outputs": []
    },
    {
      "cell_type": "code",
      "metadata": {
        "colab": {
          "base_uri": "https://localhost:8080/"
        },
        "id": "radThYIBqdzT",
        "outputId": "1216fdb7-0011-4a5d-b7bc-4740856beea9"
      },
      "source": [
        "# 凡事皆物件: 每一個東西都有型態, 每個形態都有自己可以做的事\n",
        "# dic = {\"name\":\"Elwing\"}\n",
        "# dic[\"name\"]\n",
        "# print(\"hello\") -> print = dic, (\"hello\") = [\"name\"]\n",
        "# print: 函式(SOP)型態 (\"hello\"): 函式型態才能做的操作(執行這份SOP)\n",
        "# print「不加小括號」他的地位跟數字, 字串, list, dic一樣的\n",
        "# 1\n",
        "b = round\n",
        "b(4.232323, 2)\n",
        "# 2\n",
        "def test():\n",
        "    return round\n",
        "test()(51.2121341243, 2)\n",
        "# 3\n",
        "class Person:\n",
        "    def __init__(self, h, w):\n",
        "        self.height = h\n",
        "        self.weight = w\n",
        "    def bmi(self):\n",
        "        return self.weight / (self.height / 100) ** 2\n",
        "b = Person\n",
        "b(175, 75).bmi()"
      ],
      "execution_count": 35,
      "outputs": [
        {
          "output_type": "execute_result",
          "data": {
            "text/plain": [
              "24.489795918367346"
            ]
          },
          "metadata": {},
          "execution_count": 35
        }
      ]
    },
    {
      "cell_type": "code",
      "metadata": {
        "id": "wb9IO_7FpsJu"
      },
      "source": [
        "# Series.apply(func)\n",
        "import jieba\n",
        "s = \"百川日東流，客去亦不息。我生苦漂蕩，何時有終極。\"\n",
        "\" \".join(jieba.cut(s))"
      ],
      "execution_count": null,
      "outputs": []
    }
  ]
}