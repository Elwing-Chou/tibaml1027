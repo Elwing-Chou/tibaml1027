{
  "nbformat": 4,
  "nbformat_minor": 0,
  "metadata": {
    "colab": {
      "name": "transfer_learning.ipynb",
      "provenance": [],
      "mount_file_id": "1PrrOWDvHO3N5EqOFG_UgOdiLLPHC4j4M",
      "authorship_tag": "ABX9TyOpR0z5lMsnzBdqRnML/22H",
      "include_colab_link": true
    },
    "kernelspec": {
      "name": "python3",
      "display_name": "Python 3"
    },
    "language_info": {
      "name": "python"
    }
  },
  "cells": [
    {
      "cell_type": "markdown",
      "metadata": {
        "id": "view-in-github",
        "colab_type": "text"
      },
      "source": [
        "<a href=\"https://colab.research.google.com/github/Elwing-Chou/tibaml1027/blob/main/transfer_learning.ipynb\" target=\"_parent\"><img src=\"https://colab.research.google.com/assets/colab-badge.svg\" alt=\"Open In Colab\"/></a>"
      ]
    },
    {
      "cell_type": "code",
      "metadata": {
        "id": "dIWLSZ_vvRIX"
      },
      "source": [
        "import zipfile\n",
        "path = \"/content/drive/MyDrive/additional/train.zip\"\n",
        "f = zipfile.ZipFile(path)\n",
        "f.extractall()"
      ],
      "execution_count": 1,
      "outputs": []
    },
    {
      "cell_type": "code",
      "metadata": {
        "id": "RC5CB--8wgJh"
      },
      "source": [
        "import glob\n",
        "import matplotlib.pyplot as plt\n",
        "from PIL import Image\n",
        "fs = glob.glob(\"train/*\")\n",
        "plt.imshow(Image.open(fs[10000]))"
      ],
      "execution_count": null,
      "outputs": []
    },
    {
      "cell_type": "code",
      "metadata": {
        "id": "Z5XTeMIeysJy"
      },
      "source": [
        "import random\n",
        "import pandas as pd\n",
        "dogs = glob.glob(\"train/dog.*\")\n",
        "random.shuffle(dogs)\n",
        "cats = glob.glob(\"train/cat.*\")\n",
        "random.shuffle(cats)\n",
        "train = pd.DataFrame({\n",
        "    \"path\":dogs[:900] + cats[:900],\n",
        "    \"target\":[0] * 900 + [1] * 900\n",
        "})\n",
        "validate = pd.DataFrame({\n",
        "    \"path\":dogs[900:1000] + cats[900:1000],\n",
        "    \"target\":[0] * 100 + [1] * 100\n",
        "})"
      ],
      "execution_count": 15,
      "outputs": []
    },
    {
      "cell_type": "code",
      "metadata": {
        "id": "XptbhAjMz3rU"
      },
      "source": [
        "from tensorflow.keras.applications.vgg16 import VGG16\n",
        "from tensorflow.keras.models import Sequential\n",
        "from tensorflow.keras.layers import GlobalAveragePooling2D, Dense\n",
        "cnn = VGG16(include_top=False, input_shape=(224, 224, 3))\n",
        "# compile前就設定好\n",
        "for l in cnn.layers:\n",
        "    l.trainable = False\n",
        "clf = [\n",
        "    GlobalAveragePooling2D(),\n",
        "    Dense(2, activation=\"softmax\")\n",
        "]\n",
        "model = Sequential(cnn.layers + clf)\n",
        "model.summary()"
      ],
      "execution_count": null,
      "outputs": []
    },
    {
      "cell_type": "code",
      "metadata": {
        "id": "28LJ3tkJ35hV"
      },
      "source": [
        "# 一個輸出(二元分類): BinaryCrossEntropy p log 1/q + (1 - p) log 1/1-q\n",
        "# 多個輸出(多元分類): CategoricalCrossEntropy pi log1/qi\n",
        "from tensorflow.keras.losses import SparseCategoricalCrossentropy\n",
        "model.compile(loss=SparseCategoricalCrossentropy(),\n",
        "              # \"adam\"也可以\n",
        "              optimizer=\"adam\",\n",
        "              metrics=[\"accuracy\"])"
      ],
      "execution_count": 24,
      "outputs": []
    }
  ]
}